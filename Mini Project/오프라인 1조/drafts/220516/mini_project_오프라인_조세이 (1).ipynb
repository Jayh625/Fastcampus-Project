{
  "nbformat": 4,
  "nbformat_minor": 0,
  "metadata": {
    "colab": {
      "name": "mini project_오프라인_조세이",
      "provenance": [],
      "collapsed_sections": [
        "Ox1gd3TU4jum"
      ],
      "toc_visible": true
    },
    "kernelspec": {
      "name": "python3",
      "display_name": "Python 3"
    },
    "language_info": {
      "name": "python"
    }
  },
  "cells": [
    {
      "cell_type": "markdown",
      "source": [
        "# 프로젝트 목적"
      ],
      "metadata": {
        "id": "OLpLfqVLr0XL"
      }
    },
    {
      "cell_type": "markdown",
      "source": [
        "패스트캠퍼스 온라인 강의 결제 내역 데이터를 보고 데이터 사이언스가 되었다고 가정하여 데이터를 분석해 본다."
      ],
      "metadata": {
        "id": "XfpS45yhsDv9"
      }
    },
    {
      "cell_type": "markdown",
      "source": [
        "## 데이터 보기 전 분석해 볼 것 생각해보기"
      ],
      "metadata": {
        "id": "m-AcGj4AsX2m"
      }
    },
    {
      "cell_type": "markdown",
      "source": [
        "01 고객군 분석 : 패스트캠퍼스에서 강의를 구매하는 사람들은 어떤 그룹으로 분류되며 어떤 특징을 가질 것인가?\n",
        "\n",
        "02 콘텐츠 기획 분석 : 사람들은 어떤 콘텐츠를 많이 구매할까? 마케팅 효과가 있는지, 특정 그룹의 상품이 효과가 있는지 등을 확인\n",
        "\n",
        "03 시기별 분석 : 어떤 년도, 월에 강의 콘텐츠 구매가 높을까? 어떤 시기에 구매율이 높고 왜 높은지 생각(코로나, 재택근무, 마케팅 증가 등)\n",
        "\n",
        "04 금액별 분석 : 판매 되는 가격과 실제 결제 가격의 차이가 얼마나 될까? 쿠폰할인, PG사 포인트할인 등을 사용해 얼마나 할인을 받아 구매가 이루어지는지, 쿠폰을 안쓰는 사람들은 얼마나 있는지\n",
        "\n",
        "05 강의별 분석 : 많이 구매된 강의는 어떤 특징을 가질까? 판매 시점부터 얼마나 지나서 구매가 많이 이루어질지 생각, 환불율이 높은 강의는 어떤 강의인지 분석, 금액이 높은강의가 잘 팔릴지, 낮은 강의가 잘 팔릴지\n",
        "\n",
        "시기 강의"
      ],
      "metadata": {
        "id": "5RdkAPFrsmbx"
      }
    },
    {
      "cell_type": "code",
      "source": [
        ""
      ],
      "metadata": {
        "id": "BqekT2iksU9H"
      },
      "execution_count": null,
      "outputs": []
    },
    {
      "cell_type": "markdown",
      "source": [
        "# 데이터 불러오기"
      ],
      "metadata": {
        "id": "0daWoC6vc_LU"
      }
    },
    {
      "cell_type": "code",
      "source": [
        "import numpy as np \n",
        "import pandas as pd\n",
        "import matplotlib.pyplot as plt\n",
        "import seaborn as sns\n",
        "import missingno as msno\n",
        "plt.style.use('fivethirtyeight')\n",
        "import warnings\n",
        "warnings.filterwarnings('ignore')\n",
        "%matplotlib inline"
      ],
      "metadata": {
        "id": "hsgXT5m2dB1T"
      },
      "execution_count": 1,
      "outputs": []
    },
    {
      "cell_type": "code",
      "source": [
        "from google.colab import drive\n",
        "drive.mount('/content/drive')"
      ],
      "metadata": {
        "colab": {
          "base_uri": "https://localhost:8080/"
        },
        "id": "e11K8dj3dDjy",
        "outputId": "f581e8be-0f78-4a35-91d0-e1900e1d027e"
      },
      "execution_count": 2,
      "outputs": [
        {
          "output_type": "stream",
          "name": "stdout",
          "text": [
            "Drive already mounted at /content/drive; to attempt to forcibly remount, call drive.mount(\"/content/drive\", force_remount=True).\n"
          ]
        }
      ]
    },
    {
      "cell_type": "code",
      "source": [
        "df = pd.read_excel('/content/drive/MyDrive/Colab Notebooks/220509 mini project/파이널프로젝트_RAW_210329_210926.xlsx')\n",
        "df.head()"
      ],
      "metadata": {
        "colab": {
          "base_uri": "https://localhost:8080/",
          "height": 496
        },
        "id": "4dy3dFH1dPtX",
        "outputId": "24653fd9-8668-4ac8-ddfd-f4f8542a044d"
      },
      "execution_count": 3,
      "outputs": [
        {
          "output_type": "execute_result",
          "data": {
            "text/plain": [
              "       id  customer_id  course_id     type      state  \\\n",
              "0  970634     504760.0   201435.0    ORDER  CANCELLED   \n",
              "1  970650     432862.0   203178.0    ORDER  CANCELLED   \n",
              "2  970657      72297.0   204246.0  PAYMENT  COMPLETED   \n",
              "3  970656      72297.0   204246.0    ORDER  CANCELLED   \n",
              "4  970658     478028.0   201797.0  PAYMENT  COMPLETED   \n",
              "\n",
              "                    course_title category_title  format        completed_at  \\\n",
              "0      올인원 패키지 : 알고리즘 기술면접 완전 정복          프로그래밍     올인원 2021-03-28 15:00:11   \n",
              "1    초격차 패키지 : 한번에 끝내는 영상 촬영과 편집          영상/3D     올인원 2021-03-28 15:16:53   \n",
              "2           시크릿코드 : 프론트엔드 실무 완성편          프로그래밍  스쿨 온라인 2021-03-28 15:21:43   \n",
              "3           시크릿코드 : 프론트엔드 실무 완성편          프로그래밍  스쿨 온라인 2021-03-28 15:21:43   \n",
              "4  올인원 패키지 : 직장인 필수 스킬 3종 세트 MAX         업무 생산성     올인원 2021-03-28 15:21:54   \n",
              "\n",
              "   transaction_amount              coupon_title  coupon_discount_amount  \\\n",
              "0               90500                       NaN                     NaN   \n",
              "1               96000                       NaN                     NaN   \n",
              "2              171810     [10% 할인] 시크릿코드 실무 완성편                 19090.0   \n",
              "3              171810                       NaN                     NaN   \n",
              "4               97500  [웰컴쿠폰] 올인원 패키지 2만원 할인 쿠폰                 20000.0   \n",
              "\n",
              "   sale_price  tax_free_amount   pg method subcategory_title  \\\n",
              "0    110500.0         110500.0  NaN  VBANK           개발자 커리어   \n",
              "1    116000.0         116000.0  NaN   CARD             영상 편집   \n",
              "2    190900.0         190900.0  NaN   CARD               NaN   \n",
              "3    190900.0         190900.0  NaN   CARD               NaN   \n",
              "4    117500.0         117500.0  NaN   CARD           PPT/보고서   \n",
              "\n",
              "  marketing_start_at  \n",
              "0                NaT  \n",
              "1         2020-12-02  \n",
              "2         2021-03-04  \n",
              "3         2021-03-04  \n",
              "4         2019-11-14  "
            ],
            "text/html": [
              "\n",
              "  <div id=\"df-fcc7e683-3e68-4bf0-b14f-c74cec5749a2\">\n",
              "    <div class=\"colab-df-container\">\n",
              "      <div>\n",
              "<style scoped>\n",
              "    .dataframe tbody tr th:only-of-type {\n",
              "        vertical-align: middle;\n",
              "    }\n",
              "\n",
              "    .dataframe tbody tr th {\n",
              "        vertical-align: top;\n",
              "    }\n",
              "\n",
              "    .dataframe thead th {\n",
              "        text-align: right;\n",
              "    }\n",
              "</style>\n",
              "<table border=\"1\" class=\"dataframe\">\n",
              "  <thead>\n",
              "    <tr style=\"text-align: right;\">\n",
              "      <th></th>\n",
              "      <th>id</th>\n",
              "      <th>customer_id</th>\n",
              "      <th>course_id</th>\n",
              "      <th>type</th>\n",
              "      <th>state</th>\n",
              "      <th>course_title</th>\n",
              "      <th>category_title</th>\n",
              "      <th>format</th>\n",
              "      <th>completed_at</th>\n",
              "      <th>transaction_amount</th>\n",
              "      <th>coupon_title</th>\n",
              "      <th>coupon_discount_amount</th>\n",
              "      <th>sale_price</th>\n",
              "      <th>tax_free_amount</th>\n",
              "      <th>pg</th>\n",
              "      <th>method</th>\n",
              "      <th>subcategory_title</th>\n",
              "      <th>marketing_start_at</th>\n",
              "    </tr>\n",
              "  </thead>\n",
              "  <tbody>\n",
              "    <tr>\n",
              "      <th>0</th>\n",
              "      <td>970634</td>\n",
              "      <td>504760.0</td>\n",
              "      <td>201435.0</td>\n",
              "      <td>ORDER</td>\n",
              "      <td>CANCELLED</td>\n",
              "      <td>올인원 패키지 : 알고리즘 기술면접 완전 정복</td>\n",
              "      <td>프로그래밍</td>\n",
              "      <td>올인원</td>\n",
              "      <td>2021-03-28 15:00:11</td>\n",
              "      <td>90500</td>\n",
              "      <td>NaN</td>\n",
              "      <td>NaN</td>\n",
              "      <td>110500.0</td>\n",
              "      <td>110500.0</td>\n",
              "      <td>NaN</td>\n",
              "      <td>VBANK</td>\n",
              "      <td>개발자 커리어</td>\n",
              "      <td>NaT</td>\n",
              "    </tr>\n",
              "    <tr>\n",
              "      <th>1</th>\n",
              "      <td>970650</td>\n",
              "      <td>432862.0</td>\n",
              "      <td>203178.0</td>\n",
              "      <td>ORDER</td>\n",
              "      <td>CANCELLED</td>\n",
              "      <td>초격차 패키지 : 한번에 끝내는 영상 촬영과 편집</td>\n",
              "      <td>영상/3D</td>\n",
              "      <td>올인원</td>\n",
              "      <td>2021-03-28 15:16:53</td>\n",
              "      <td>96000</td>\n",
              "      <td>NaN</td>\n",
              "      <td>NaN</td>\n",
              "      <td>116000.0</td>\n",
              "      <td>116000.0</td>\n",
              "      <td>NaN</td>\n",
              "      <td>CARD</td>\n",
              "      <td>영상 편집</td>\n",
              "      <td>2020-12-02</td>\n",
              "    </tr>\n",
              "    <tr>\n",
              "      <th>2</th>\n",
              "      <td>970657</td>\n",
              "      <td>72297.0</td>\n",
              "      <td>204246.0</td>\n",
              "      <td>PAYMENT</td>\n",
              "      <td>COMPLETED</td>\n",
              "      <td>시크릿코드 : 프론트엔드 실무 완성편</td>\n",
              "      <td>프로그래밍</td>\n",
              "      <td>스쿨 온라인</td>\n",
              "      <td>2021-03-28 15:21:43</td>\n",
              "      <td>171810</td>\n",
              "      <td>[10% 할인] 시크릿코드 실무 완성편</td>\n",
              "      <td>19090.0</td>\n",
              "      <td>190900.0</td>\n",
              "      <td>190900.0</td>\n",
              "      <td>NaN</td>\n",
              "      <td>CARD</td>\n",
              "      <td>NaN</td>\n",
              "      <td>2021-03-04</td>\n",
              "    </tr>\n",
              "    <tr>\n",
              "      <th>3</th>\n",
              "      <td>970656</td>\n",
              "      <td>72297.0</td>\n",
              "      <td>204246.0</td>\n",
              "      <td>ORDER</td>\n",
              "      <td>CANCELLED</td>\n",
              "      <td>시크릿코드 : 프론트엔드 실무 완성편</td>\n",
              "      <td>프로그래밍</td>\n",
              "      <td>스쿨 온라인</td>\n",
              "      <td>2021-03-28 15:21:43</td>\n",
              "      <td>171810</td>\n",
              "      <td>NaN</td>\n",
              "      <td>NaN</td>\n",
              "      <td>190900.0</td>\n",
              "      <td>190900.0</td>\n",
              "      <td>NaN</td>\n",
              "      <td>CARD</td>\n",
              "      <td>NaN</td>\n",
              "      <td>2021-03-04</td>\n",
              "    </tr>\n",
              "    <tr>\n",
              "      <th>4</th>\n",
              "      <td>970658</td>\n",
              "      <td>478028.0</td>\n",
              "      <td>201797.0</td>\n",
              "      <td>PAYMENT</td>\n",
              "      <td>COMPLETED</td>\n",
              "      <td>올인원 패키지 : 직장인 필수 스킬 3종 세트 MAX</td>\n",
              "      <td>업무 생산성</td>\n",
              "      <td>올인원</td>\n",
              "      <td>2021-03-28 15:21:54</td>\n",
              "      <td>97500</td>\n",
              "      <td>[웰컴쿠폰] 올인원 패키지 2만원 할인 쿠폰</td>\n",
              "      <td>20000.0</td>\n",
              "      <td>117500.0</td>\n",
              "      <td>117500.0</td>\n",
              "      <td>NaN</td>\n",
              "      <td>CARD</td>\n",
              "      <td>PPT/보고서</td>\n",
              "      <td>2019-11-14</td>\n",
              "    </tr>\n",
              "  </tbody>\n",
              "</table>\n",
              "</div>\n",
              "      <button class=\"colab-df-convert\" onclick=\"convertToInteractive('df-fcc7e683-3e68-4bf0-b14f-c74cec5749a2')\"\n",
              "              title=\"Convert this dataframe to an interactive table.\"\n",
              "              style=\"display:none;\">\n",
              "        \n",
              "  <svg xmlns=\"http://www.w3.org/2000/svg\" height=\"24px\"viewBox=\"0 0 24 24\"\n",
              "       width=\"24px\">\n",
              "    <path d=\"M0 0h24v24H0V0z\" fill=\"none\"/>\n",
              "    <path d=\"M18.56 5.44l.94 2.06.94-2.06 2.06-.94-2.06-.94-.94-2.06-.94 2.06-2.06.94zm-11 1L8.5 8.5l.94-2.06 2.06-.94-2.06-.94L8.5 2.5l-.94 2.06-2.06.94zm10 10l.94 2.06.94-2.06 2.06-.94-2.06-.94-.94-2.06-.94 2.06-2.06.94z\"/><path d=\"M17.41 7.96l-1.37-1.37c-.4-.4-.92-.59-1.43-.59-.52 0-1.04.2-1.43.59L10.3 9.45l-7.72 7.72c-.78.78-.78 2.05 0 2.83L4 21.41c.39.39.9.59 1.41.59.51 0 1.02-.2 1.41-.59l7.78-7.78 2.81-2.81c.8-.78.8-2.07 0-2.86zM5.41 20L4 18.59l7.72-7.72 1.47 1.35L5.41 20z\"/>\n",
              "  </svg>\n",
              "      </button>\n",
              "      \n",
              "  <style>\n",
              "    .colab-df-container {\n",
              "      display:flex;\n",
              "      flex-wrap:wrap;\n",
              "      gap: 12px;\n",
              "    }\n",
              "\n",
              "    .colab-df-convert {\n",
              "      background-color: #E8F0FE;\n",
              "      border: none;\n",
              "      border-radius: 50%;\n",
              "      cursor: pointer;\n",
              "      display: none;\n",
              "      fill: #1967D2;\n",
              "      height: 32px;\n",
              "      padding: 0 0 0 0;\n",
              "      width: 32px;\n",
              "    }\n",
              "\n",
              "    .colab-df-convert:hover {\n",
              "      background-color: #E2EBFA;\n",
              "      box-shadow: 0px 1px 2px rgba(60, 64, 67, 0.3), 0px 1px 3px 1px rgba(60, 64, 67, 0.15);\n",
              "      fill: #174EA6;\n",
              "    }\n",
              "\n",
              "    [theme=dark] .colab-df-convert {\n",
              "      background-color: #3B4455;\n",
              "      fill: #D2E3FC;\n",
              "    }\n",
              "\n",
              "    [theme=dark] .colab-df-convert:hover {\n",
              "      background-color: #434B5C;\n",
              "      box-shadow: 0px 1px 3px 1px rgba(0, 0, 0, 0.15);\n",
              "      filter: drop-shadow(0px 1px 2px rgba(0, 0, 0, 0.3));\n",
              "      fill: #FFFFFF;\n",
              "    }\n",
              "  </style>\n",
              "\n",
              "      <script>\n",
              "        const buttonEl =\n",
              "          document.querySelector('#df-fcc7e683-3e68-4bf0-b14f-c74cec5749a2 button.colab-df-convert');\n",
              "        buttonEl.style.display =\n",
              "          google.colab.kernel.accessAllowed ? 'block' : 'none';\n",
              "\n",
              "        async function convertToInteractive(key) {\n",
              "          const element = document.querySelector('#df-fcc7e683-3e68-4bf0-b14f-c74cec5749a2');\n",
              "          const dataTable =\n",
              "            await google.colab.kernel.invokeFunction('convertToInteractive',\n",
              "                                                     [key], {});\n",
              "          if (!dataTable) return;\n",
              "\n",
              "          const docLinkHtml = 'Like what you see? Visit the ' +\n",
              "            '<a target=\"_blank\" href=https://colab.research.google.com/notebooks/data_table.ipynb>data table notebook</a>'\n",
              "            + ' to learn more about interactive tables.';\n",
              "          element.innerHTML = '';\n",
              "          dataTable['output_type'] = 'display_data';\n",
              "          await google.colab.output.renderOutput(dataTable, element);\n",
              "          const docLink = document.createElement('div');\n",
              "          docLink.innerHTML = docLinkHtml;\n",
              "          element.appendChild(docLink);\n",
              "        }\n",
              "      </script>\n",
              "    </div>\n",
              "  </div>\n",
              "  "
            ]
          },
          "metadata": {},
          "execution_count": 3
        }
      ]
    },
    {
      "cell_type": "code",
      "source": [
        "# 폰트설치\n",
        "!sudo apt-get install -y fonts-nanum\n",
        "!sudo fc-cache -fv\n",
        "!rm ~/.cache/matplotlib -rf"
      ],
      "metadata": {
        "colab": {
          "base_uri": "https://localhost:8080/"
        },
        "id": "ppx0JdAzzPMY",
        "outputId": "bc8f091f-eb03-4ee3-afd7-cc595a084691"
      },
      "execution_count": 4,
      "outputs": [
        {
          "output_type": "stream",
          "name": "stdout",
          "text": [
            "Reading package lists... Done\n",
            "Building dependency tree       \n",
            "Reading state information... Done\n",
            "fonts-nanum is already the newest version (20170925-1).\n",
            "The following packages were automatically installed and are no longer required:\n",
            "  libnvidia-common-460 nsight-compute-2020.2.0\n",
            "Use 'sudo apt autoremove' to remove them.\n",
            "0 upgraded, 0 newly installed, 0 to remove and 42 not upgraded.\n",
            "/usr/share/fonts: caching, new cache contents: 0 fonts, 1 dirs\n",
            "/usr/share/fonts/truetype: caching, new cache contents: 0 fonts, 3 dirs\n",
            "/usr/share/fonts/truetype/humor-sans: caching, new cache contents: 1 fonts, 0 dirs\n",
            "/usr/share/fonts/truetype/liberation: caching, new cache contents: 16 fonts, 0 dirs\n",
            "/usr/share/fonts/truetype/nanum: caching, new cache contents: 10 fonts, 0 dirs\n",
            "/usr/local/share/fonts: caching, new cache contents: 0 fonts, 0 dirs\n",
            "/root/.local/share/fonts: skipping, no such directory\n",
            "/root/.fonts: skipping, no such directory\n",
            "/var/cache/fontconfig: cleaning cache directory\n",
            "/root/.cache/fontconfig: not cleaning non-existent cache directory\n",
            "/root/.fontconfig: not cleaning non-existent cache directory\n",
            "fc-cache: succeeded\n"
          ]
        }
      ]
    },
    {
      "cell_type": "code",
      "source": [
        "import matplotlib.pyplot as plt\n",
        "\n",
        "plt.rc('font', family='NanumBarunGothic')"
      ],
      "metadata": {
        "id": "ZqcvNtvCzWcw"
      },
      "execution_count": 34,
      "outputs": []
    },
    {
      "cell_type": "code",
      "source": [
        "import matplotlib.font_manager as fm\n",
        "[(f.name, f.fname) for f in fm.fontManager.ttflist if 'NanumBarun' in f.name]"
      ],
      "metadata": {
        "colab": {
          "base_uri": "https://localhost:8080/"
        },
        "id": "pdAsoI00z7Fu",
        "outputId": "4c453053-bb78-45f4-bdff-bef34a4911ee"
      },
      "execution_count": 35,
      "outputs": [
        {
          "output_type": "execute_result",
          "data": {
            "text/plain": [
              "[('NanumBarunGothic',\n",
              "  '/usr/share/fonts/truetype/nanum/NanumBarunGothicBold.ttf'),\n",
              " ('NanumBarunGothic', '/usr/share/fonts/truetype/nanum/NanumBarunGothic.ttf')]"
            ]
          },
          "metadata": {},
          "execution_count": 35
        }
      ]
    },
    {
      "cell_type": "markdown",
      "source": [
        "## 데이터 설명 및 가설 설정\n",
        "\n",
        "  id : 해당 거래내역에 대한 ID (PK)\n",
        "\n",
        "  customer_id : 결제한 고객 ID\n",
        "\n",
        "  course_id : 강의 ID(프로모션에 대해서는 값이 할당되어 있지 않음)\n",
        "\n",
        "  type : 거래의 종류\n",
        "\n",
        "  state : 거래에 대한 상태\n",
        "\n",
        "  course_title : 강의 제목\n",
        "\n",
        "  category_title : 대분류\n",
        "\n",
        "  format : 온라인 강의의 기획 종류\n",
        "\n",
        "  completed_at : state가 COMPLETED로 변경된 시점\n",
        "\n",
        "  transaction_amount : 최종 결제 금액\n",
        "\n",
        "  coupon_title : 쿠폰 종류\n",
        "\n",
        "  coupon_dicount_amount : 쿠폰 할인 금액\n",
        "\n",
        "  sale_price : 판매 금액\n",
        "\n",
        "  tax_free_amount : 보안상 컬럼 삭제 *\n",
        "\n",
        "  pg : PG사 종류\n",
        "\n",
        "  method : 결제 방식\n",
        "\n",
        "  subcategory_title : 중분류\n",
        "\n",
        "  marketing_start_at : 강의 판매 시점\n",
        "\n",
        "\n",
        "\n"
      ],
      "metadata": {
        "id": "G_uilOvye6iy"
      }
    },
    {
      "cell_type": "code",
      "source": [
        ""
      ],
      "metadata": {
        "id": "fCJNvyeaX2df"
      },
      "execution_count": 5,
      "outputs": []
    },
    {
      "cell_type": "markdown",
      "source": [
        "# EDA"
      ],
      "metadata": {
        "id": "X2GwgAFuixqO"
      }
    },
    {
      "cell_type": "code",
      "source": [
        "# 컬럼명 바꾸기\n",
        "df.rename(columns={'transaction_amount':'payment_amount'},inplace = True)\n",
        "df.rename(columns={'pg':'agent'},inplace = True)"
      ],
      "metadata": {
        "id": "n74W1qfxL5Sg"
      },
      "execution_count": 6,
      "outputs": []
    },
    {
      "cell_type": "markdown",
      "source": [
        "실제 데이터를 뜯어보아서 목적에 영향을 낄칠 데이터와 아닌 것을 잡는 과정"
      ],
      "metadata": {
        "id": "95p7vQpNi6UE"
      }
    },
    {
      "cell_type": "code",
      "source": [
        "#데이터 타입 확인\n",
        "\n",
        "df.info()"
      ],
      "metadata": {
        "colab": {
          "base_uri": "https://localhost:8080/"
        },
        "id": "djIEFB-2i64r",
        "outputId": "b43c157f-2b5c-48a3-da50-4eb896af86fe"
      },
      "execution_count": 7,
      "outputs": [
        {
          "output_type": "stream",
          "name": "stdout",
          "text": [
            "<class 'pandas.core.frame.DataFrame'>\n",
            "RangeIndex: 105419 entries, 0 to 105418\n",
            "Data columns (total 18 columns):\n",
            " #   Column                  Non-Null Count   Dtype         \n",
            "---  ------                  --------------   -----         \n",
            " 0   id                      105419 non-null  int64         \n",
            " 1   customer_id             105416 non-null  float64       \n",
            " 2   course_id               100212 non-null  float64       \n",
            " 3   type                    105419 non-null  object        \n",
            " 4   state                   105419 non-null  object        \n",
            " 5   course_title            105403 non-null  object        \n",
            " 6   category_title          105395 non-null  object        \n",
            " 7   format                  105403 non-null  object        \n",
            " 8   completed_at            105419 non-null  datetime64[ns]\n",
            " 9   payment_amount          105419 non-null  int64         \n",
            " 10  coupon_title            31817 non-null   object        \n",
            " 11  coupon_discount_amount  31817 non-null   float64       \n",
            " 12  sale_price              104291 non-null  float64       \n",
            " 13  tax_free_amount         104291 non-null  float64       \n",
            " 14  agent                   90344 non-null   object        \n",
            " 15  method                  92323 non-null   object        \n",
            " 16  subcategory_title       85590 non-null   object        \n",
            " 17  marketing_start_at      87440 non-null   datetime64[ns]\n",
            "dtypes: datetime64[ns](2), float64(5), int64(2), object(9)\n",
            "memory usage: 14.5+ MB\n"
          ]
        }
      ]
    },
    {
      "cell_type": "code",
      "source": [
        "#기초 통계량 확인\n",
        "\n",
        "df.describe()"
      ],
      "metadata": {
        "colab": {
          "base_uri": "https://localhost:8080/",
          "height": 300
        },
        "id": "4ZrGvV7ZjCxK",
        "outputId": "131df478-5ed0-4ea2-ae09-6c90ec535550"
      },
      "execution_count": 8,
      "outputs": [
        {
          "output_type": "execute_result",
          "data": {
            "text/plain": [
              "                 id    customer_id      course_id  payment_amount  \\\n",
              "count  1.054190e+05  105416.000000  100212.000000    1.054190e+05   \n",
              "mean   1.147054e+06  417248.252742  203868.586327    1.464814e+05   \n",
              "std    1.125898e+05  206414.496648    1534.583331    7.195061e+05   \n",
              "min    5.679930e+05      16.000000    2516.000000   -4.144074e+06   \n",
              "25%    1.048940e+06  256401.000000  203100.000000    8.350000e+04   \n",
              "50%    1.135186e+06  501046.000000  203787.000000    1.175000e+05   \n",
              "75%    1.240472e+06  566595.000000  204775.000000    1.590000e+05   \n",
              "max    1.381657e+06  672308.000000  207742.000000    1.134000e+08   \n",
              "\n",
              "       coupon_discount_amount    sale_price  tax_free_amount  \n",
              "count            3.181700e+04  1.042910e+05     1.042910e+05  \n",
              "mean             4.972172e+04  1.610808e+05     1.575551e+05  \n",
              "std              5.624467e+04  3.955298e+05     3.898133e+05  \n",
              "min              0.000000e+00  1.000000e+00     0.000000e+00  \n",
              "25%              2.000000e+04  1.090000e+05     1.090000e+05  \n",
              "50%              2.100000e+04  1.320000e+05     1.320000e+05  \n",
              "75%              6.915000e+04  1.710000e+05     1.710000e+05  \n",
              "max              2.000000e+06  9.094000e+07     9.094000e+07  "
            ],
            "text/html": [
              "\n",
              "  <div id=\"df-aa38d916-6516-4ad5-9ced-fef00c59b80f\">\n",
              "    <div class=\"colab-df-container\">\n",
              "      <div>\n",
              "<style scoped>\n",
              "    .dataframe tbody tr th:only-of-type {\n",
              "        vertical-align: middle;\n",
              "    }\n",
              "\n",
              "    .dataframe tbody tr th {\n",
              "        vertical-align: top;\n",
              "    }\n",
              "\n",
              "    .dataframe thead th {\n",
              "        text-align: right;\n",
              "    }\n",
              "</style>\n",
              "<table border=\"1\" class=\"dataframe\">\n",
              "  <thead>\n",
              "    <tr style=\"text-align: right;\">\n",
              "      <th></th>\n",
              "      <th>id</th>\n",
              "      <th>customer_id</th>\n",
              "      <th>course_id</th>\n",
              "      <th>payment_amount</th>\n",
              "      <th>coupon_discount_amount</th>\n",
              "      <th>sale_price</th>\n",
              "      <th>tax_free_amount</th>\n",
              "    </tr>\n",
              "  </thead>\n",
              "  <tbody>\n",
              "    <tr>\n",
              "      <th>count</th>\n",
              "      <td>1.054190e+05</td>\n",
              "      <td>105416.000000</td>\n",
              "      <td>100212.000000</td>\n",
              "      <td>1.054190e+05</td>\n",
              "      <td>3.181700e+04</td>\n",
              "      <td>1.042910e+05</td>\n",
              "      <td>1.042910e+05</td>\n",
              "    </tr>\n",
              "    <tr>\n",
              "      <th>mean</th>\n",
              "      <td>1.147054e+06</td>\n",
              "      <td>417248.252742</td>\n",
              "      <td>203868.586327</td>\n",
              "      <td>1.464814e+05</td>\n",
              "      <td>4.972172e+04</td>\n",
              "      <td>1.610808e+05</td>\n",
              "      <td>1.575551e+05</td>\n",
              "    </tr>\n",
              "    <tr>\n",
              "      <th>std</th>\n",
              "      <td>1.125898e+05</td>\n",
              "      <td>206414.496648</td>\n",
              "      <td>1534.583331</td>\n",
              "      <td>7.195061e+05</td>\n",
              "      <td>5.624467e+04</td>\n",
              "      <td>3.955298e+05</td>\n",
              "      <td>3.898133e+05</td>\n",
              "    </tr>\n",
              "    <tr>\n",
              "      <th>min</th>\n",
              "      <td>5.679930e+05</td>\n",
              "      <td>16.000000</td>\n",
              "      <td>2516.000000</td>\n",
              "      <td>-4.144074e+06</td>\n",
              "      <td>0.000000e+00</td>\n",
              "      <td>1.000000e+00</td>\n",
              "      <td>0.000000e+00</td>\n",
              "    </tr>\n",
              "    <tr>\n",
              "      <th>25%</th>\n",
              "      <td>1.048940e+06</td>\n",
              "      <td>256401.000000</td>\n",
              "      <td>203100.000000</td>\n",
              "      <td>8.350000e+04</td>\n",
              "      <td>2.000000e+04</td>\n",
              "      <td>1.090000e+05</td>\n",
              "      <td>1.090000e+05</td>\n",
              "    </tr>\n",
              "    <tr>\n",
              "      <th>50%</th>\n",
              "      <td>1.135186e+06</td>\n",
              "      <td>501046.000000</td>\n",
              "      <td>203787.000000</td>\n",
              "      <td>1.175000e+05</td>\n",
              "      <td>2.100000e+04</td>\n",
              "      <td>1.320000e+05</td>\n",
              "      <td>1.320000e+05</td>\n",
              "    </tr>\n",
              "    <tr>\n",
              "      <th>75%</th>\n",
              "      <td>1.240472e+06</td>\n",
              "      <td>566595.000000</td>\n",
              "      <td>204775.000000</td>\n",
              "      <td>1.590000e+05</td>\n",
              "      <td>6.915000e+04</td>\n",
              "      <td>1.710000e+05</td>\n",
              "      <td>1.710000e+05</td>\n",
              "    </tr>\n",
              "    <tr>\n",
              "      <th>max</th>\n",
              "      <td>1.381657e+06</td>\n",
              "      <td>672308.000000</td>\n",
              "      <td>207742.000000</td>\n",
              "      <td>1.134000e+08</td>\n",
              "      <td>2.000000e+06</td>\n",
              "      <td>9.094000e+07</td>\n",
              "      <td>9.094000e+07</td>\n",
              "    </tr>\n",
              "  </tbody>\n",
              "</table>\n",
              "</div>\n",
              "      <button class=\"colab-df-convert\" onclick=\"convertToInteractive('df-aa38d916-6516-4ad5-9ced-fef00c59b80f')\"\n",
              "              title=\"Convert this dataframe to an interactive table.\"\n",
              "              style=\"display:none;\">\n",
              "        \n",
              "  <svg xmlns=\"http://www.w3.org/2000/svg\" height=\"24px\"viewBox=\"0 0 24 24\"\n",
              "       width=\"24px\">\n",
              "    <path d=\"M0 0h24v24H0V0z\" fill=\"none\"/>\n",
              "    <path d=\"M18.56 5.44l.94 2.06.94-2.06 2.06-.94-2.06-.94-.94-2.06-.94 2.06-2.06.94zm-11 1L8.5 8.5l.94-2.06 2.06-.94-2.06-.94L8.5 2.5l-.94 2.06-2.06.94zm10 10l.94 2.06.94-2.06 2.06-.94-2.06-.94-.94-2.06-.94 2.06-2.06.94z\"/><path d=\"M17.41 7.96l-1.37-1.37c-.4-.4-.92-.59-1.43-.59-.52 0-1.04.2-1.43.59L10.3 9.45l-7.72 7.72c-.78.78-.78 2.05 0 2.83L4 21.41c.39.39.9.59 1.41.59.51 0 1.02-.2 1.41-.59l7.78-7.78 2.81-2.81c.8-.78.8-2.07 0-2.86zM5.41 20L4 18.59l7.72-7.72 1.47 1.35L5.41 20z\"/>\n",
              "  </svg>\n",
              "      </button>\n",
              "      \n",
              "  <style>\n",
              "    .colab-df-container {\n",
              "      display:flex;\n",
              "      flex-wrap:wrap;\n",
              "      gap: 12px;\n",
              "    }\n",
              "\n",
              "    .colab-df-convert {\n",
              "      background-color: #E8F0FE;\n",
              "      border: none;\n",
              "      border-radius: 50%;\n",
              "      cursor: pointer;\n",
              "      display: none;\n",
              "      fill: #1967D2;\n",
              "      height: 32px;\n",
              "      padding: 0 0 0 0;\n",
              "      width: 32px;\n",
              "    }\n",
              "\n",
              "    .colab-df-convert:hover {\n",
              "      background-color: #E2EBFA;\n",
              "      box-shadow: 0px 1px 2px rgba(60, 64, 67, 0.3), 0px 1px 3px 1px rgba(60, 64, 67, 0.15);\n",
              "      fill: #174EA6;\n",
              "    }\n",
              "\n",
              "    [theme=dark] .colab-df-convert {\n",
              "      background-color: #3B4455;\n",
              "      fill: #D2E3FC;\n",
              "    }\n",
              "\n",
              "    [theme=dark] .colab-df-convert:hover {\n",
              "      background-color: #434B5C;\n",
              "      box-shadow: 0px 1px 3px 1px rgba(0, 0, 0, 0.15);\n",
              "      filter: drop-shadow(0px 1px 2px rgba(0, 0, 0, 0.3));\n",
              "      fill: #FFFFFF;\n",
              "    }\n",
              "  </style>\n",
              "\n",
              "      <script>\n",
              "        const buttonEl =\n",
              "          document.querySelector('#df-aa38d916-6516-4ad5-9ced-fef00c59b80f button.colab-df-convert');\n",
              "        buttonEl.style.display =\n",
              "          google.colab.kernel.accessAllowed ? 'block' : 'none';\n",
              "\n",
              "        async function convertToInteractive(key) {\n",
              "          const element = document.querySelector('#df-aa38d916-6516-4ad5-9ced-fef00c59b80f');\n",
              "          const dataTable =\n",
              "            await google.colab.kernel.invokeFunction('convertToInteractive',\n",
              "                                                     [key], {});\n",
              "          if (!dataTable) return;\n",
              "\n",
              "          const docLinkHtml = 'Like what you see? Visit the ' +\n",
              "            '<a target=\"_blank\" href=https://colab.research.google.com/notebooks/data_table.ipynb>data table notebook</a>'\n",
              "            + ' to learn more about interactive tables.';\n",
              "          element.innerHTML = '';\n",
              "          dataTable['output_type'] = 'display_data';\n",
              "          await google.colab.output.renderOutput(dataTable, element);\n",
              "          const docLink = document.createElement('div');\n",
              "          docLink.innerHTML = docLinkHtml;\n",
              "          element.appendChild(docLink);\n",
              "        }\n",
              "      </script>\n",
              "    </div>\n",
              "  </div>\n",
              "  "
            ]
          },
          "metadata": {},
          "execution_count": 8
        }
      ]
    },
    {
      "cell_type": "markdown",
      "source": [
        "## 결측치 확인"
      ],
      "metadata": {
        "id": "vRKOVRvBlOYa"
      }
    },
    {
      "cell_type": "code",
      "source": [
        "#결측치 확인\n",
        "#coupon쪽에 결측치 많음\n",
        "df.isnull().sum().sort_values(ascending=False)"
      ],
      "metadata": {
        "colab": {
          "base_uri": "https://localhost:8080/"
        },
        "id": "C6kEDHOelS5c",
        "outputId": "0366759e-f6bd-429a-ebd4-ec92c958f222"
      },
      "execution_count": 9,
      "outputs": [
        {
          "output_type": "execute_result",
          "data": {
            "text/plain": [
              "coupon_title              73602\n",
              "coupon_discount_amount    73602\n",
              "subcategory_title         19829\n",
              "marketing_start_at        17979\n",
              "agent                     15075\n",
              "method                    13096\n",
              "course_id                  5207\n",
              "tax_free_amount            1128\n",
              "sale_price                 1128\n",
              "category_title               24\n",
              "course_title                 16\n",
              "format                       16\n",
              "customer_id                   3\n",
              "id                            0\n",
              "completed_at                  0\n",
              "state                         0\n",
              "type                          0\n",
              "payment_amount                0\n",
              "dtype: int64"
            ]
          },
          "metadata": {},
          "execution_count": 9
        }
      ]
    },
    {
      "cell_type": "code",
      "source": [
        "#dataframe형식으로 결측치 값과 비율을 출력\n",
        "\n",
        "raw_info = pd.DataFrame(df.dtypes).T.rename(index={0:'column type'})\n",
        "raw_info = raw_info.append(pd.DataFrame(df.isnull().sum()).T.rename(index={0:'null values(nb)'}))\n",
        "raw_info = raw_info.append(pd.DataFrame(df.isnull().sum()/df.shape[0]*100).T.rename(index={0:'null values (%)'}))\n",
        "\n",
        "display(raw_info)\n",
        "display(df[:5])"
      ],
      "metadata": {
        "colab": {
          "base_uri": "https://localhost:8080/",
          "height": 674
        },
        "id": "4BSthKgclXO6",
        "outputId": "1d688c96-fb35-4c1d-b9c3-b31192b51350"
      },
      "execution_count": 10,
      "outputs": [
        {
          "output_type": "display_data",
          "data": {
            "text/plain": [
              "                    id customer_id course_id    type   state course_title  \\\n",
              "column type      int64     float64   float64  object  object       object   \n",
              "null values(nb)      0           3      5207       0       0           16   \n",
              "null values (%)    0.0    0.002846  4.939337     0.0     0.0     0.015178   \n",
              "\n",
              "                category_title    format    completed_at payment_amount  \\\n",
              "column type             object    object  datetime64[ns]          int64   \n",
              "null values(nb)             24        16               0              0   \n",
              "null values (%)       0.022766  0.015178             0.0            0.0   \n",
              "\n",
              "                coupon_title coupon_discount_amount sale_price  \\\n",
              "column type           object                float64    float64   \n",
              "null values(nb)        73602                  73602       1128   \n",
              "null values (%)    69.818534              69.818534   1.070016   \n",
              "\n",
              "                tax_free_amount      agent     method subcategory_title  \\\n",
              "column type             float64     object     object            object   \n",
              "null values(nb)            1128      15075      13096             19829   \n",
              "null values (%)        1.070016  14.300079  12.422808         18.809702   \n",
              "\n",
              "                marketing_start_at  \n",
              "column type         datetime64[ns]  \n",
              "null values(nb)              17979  \n",
              "null values (%)            17.0548  "
            ],
            "text/html": [
              "\n",
              "  <div id=\"df-80ac520c-6af3-4fbe-9991-3dd12a9ff059\">\n",
              "    <div class=\"colab-df-container\">\n",
              "      <div>\n",
              "<style scoped>\n",
              "    .dataframe tbody tr th:only-of-type {\n",
              "        vertical-align: middle;\n",
              "    }\n",
              "\n",
              "    .dataframe tbody tr th {\n",
              "        vertical-align: top;\n",
              "    }\n",
              "\n",
              "    .dataframe thead th {\n",
              "        text-align: right;\n",
              "    }\n",
              "</style>\n",
              "<table border=\"1\" class=\"dataframe\">\n",
              "  <thead>\n",
              "    <tr style=\"text-align: right;\">\n",
              "      <th></th>\n",
              "      <th>id</th>\n",
              "      <th>customer_id</th>\n",
              "      <th>course_id</th>\n",
              "      <th>type</th>\n",
              "      <th>state</th>\n",
              "      <th>course_title</th>\n",
              "      <th>category_title</th>\n",
              "      <th>format</th>\n",
              "      <th>completed_at</th>\n",
              "      <th>payment_amount</th>\n",
              "      <th>coupon_title</th>\n",
              "      <th>coupon_discount_amount</th>\n",
              "      <th>sale_price</th>\n",
              "      <th>tax_free_amount</th>\n",
              "      <th>agent</th>\n",
              "      <th>method</th>\n",
              "      <th>subcategory_title</th>\n",
              "      <th>marketing_start_at</th>\n",
              "    </tr>\n",
              "  </thead>\n",
              "  <tbody>\n",
              "    <tr>\n",
              "      <th>column type</th>\n",
              "      <td>int64</td>\n",
              "      <td>float64</td>\n",
              "      <td>float64</td>\n",
              "      <td>object</td>\n",
              "      <td>object</td>\n",
              "      <td>object</td>\n",
              "      <td>object</td>\n",
              "      <td>object</td>\n",
              "      <td>datetime64[ns]</td>\n",
              "      <td>int64</td>\n",
              "      <td>object</td>\n",
              "      <td>float64</td>\n",
              "      <td>float64</td>\n",
              "      <td>float64</td>\n",
              "      <td>object</td>\n",
              "      <td>object</td>\n",
              "      <td>object</td>\n",
              "      <td>datetime64[ns]</td>\n",
              "    </tr>\n",
              "    <tr>\n",
              "      <th>null values(nb)</th>\n",
              "      <td>0</td>\n",
              "      <td>3</td>\n",
              "      <td>5207</td>\n",
              "      <td>0</td>\n",
              "      <td>0</td>\n",
              "      <td>16</td>\n",
              "      <td>24</td>\n",
              "      <td>16</td>\n",
              "      <td>0</td>\n",
              "      <td>0</td>\n",
              "      <td>73602</td>\n",
              "      <td>73602</td>\n",
              "      <td>1128</td>\n",
              "      <td>1128</td>\n",
              "      <td>15075</td>\n",
              "      <td>13096</td>\n",
              "      <td>19829</td>\n",
              "      <td>17979</td>\n",
              "    </tr>\n",
              "    <tr>\n",
              "      <th>null values (%)</th>\n",
              "      <td>0.0</td>\n",
              "      <td>0.002846</td>\n",
              "      <td>4.939337</td>\n",
              "      <td>0.0</td>\n",
              "      <td>0.0</td>\n",
              "      <td>0.015178</td>\n",
              "      <td>0.022766</td>\n",
              "      <td>0.015178</td>\n",
              "      <td>0.0</td>\n",
              "      <td>0.0</td>\n",
              "      <td>69.818534</td>\n",
              "      <td>69.818534</td>\n",
              "      <td>1.070016</td>\n",
              "      <td>1.070016</td>\n",
              "      <td>14.300079</td>\n",
              "      <td>12.422808</td>\n",
              "      <td>18.809702</td>\n",
              "      <td>17.0548</td>\n",
              "    </tr>\n",
              "  </tbody>\n",
              "</table>\n",
              "</div>\n",
              "      <button class=\"colab-df-convert\" onclick=\"convertToInteractive('df-80ac520c-6af3-4fbe-9991-3dd12a9ff059')\"\n",
              "              title=\"Convert this dataframe to an interactive table.\"\n",
              "              style=\"display:none;\">\n",
              "        \n",
              "  <svg xmlns=\"http://www.w3.org/2000/svg\" height=\"24px\"viewBox=\"0 0 24 24\"\n",
              "       width=\"24px\">\n",
              "    <path d=\"M0 0h24v24H0V0z\" fill=\"none\"/>\n",
              "    <path d=\"M18.56 5.44l.94 2.06.94-2.06 2.06-.94-2.06-.94-.94-2.06-.94 2.06-2.06.94zm-11 1L8.5 8.5l.94-2.06 2.06-.94-2.06-.94L8.5 2.5l-.94 2.06-2.06.94zm10 10l.94 2.06.94-2.06 2.06-.94-2.06-.94-.94-2.06-.94 2.06-2.06.94z\"/><path d=\"M17.41 7.96l-1.37-1.37c-.4-.4-.92-.59-1.43-.59-.52 0-1.04.2-1.43.59L10.3 9.45l-7.72 7.72c-.78.78-.78 2.05 0 2.83L4 21.41c.39.39.9.59 1.41.59.51 0 1.02-.2 1.41-.59l7.78-7.78 2.81-2.81c.8-.78.8-2.07 0-2.86zM5.41 20L4 18.59l7.72-7.72 1.47 1.35L5.41 20z\"/>\n",
              "  </svg>\n",
              "      </button>\n",
              "      \n",
              "  <style>\n",
              "    .colab-df-container {\n",
              "      display:flex;\n",
              "      flex-wrap:wrap;\n",
              "      gap: 12px;\n",
              "    }\n",
              "\n",
              "    .colab-df-convert {\n",
              "      background-color: #E8F0FE;\n",
              "      border: none;\n",
              "      border-radius: 50%;\n",
              "      cursor: pointer;\n",
              "      display: none;\n",
              "      fill: #1967D2;\n",
              "      height: 32px;\n",
              "      padding: 0 0 0 0;\n",
              "      width: 32px;\n",
              "    }\n",
              "\n",
              "    .colab-df-convert:hover {\n",
              "      background-color: #E2EBFA;\n",
              "      box-shadow: 0px 1px 2px rgba(60, 64, 67, 0.3), 0px 1px 3px 1px rgba(60, 64, 67, 0.15);\n",
              "      fill: #174EA6;\n",
              "    }\n",
              "\n",
              "    [theme=dark] .colab-df-convert {\n",
              "      background-color: #3B4455;\n",
              "      fill: #D2E3FC;\n",
              "    }\n",
              "\n",
              "    [theme=dark] .colab-df-convert:hover {\n",
              "      background-color: #434B5C;\n",
              "      box-shadow: 0px 1px 3px 1px rgba(0, 0, 0, 0.15);\n",
              "      filter: drop-shadow(0px 1px 2px rgba(0, 0, 0, 0.3));\n",
              "      fill: #FFFFFF;\n",
              "    }\n",
              "  </style>\n",
              "\n",
              "      <script>\n",
              "        const buttonEl =\n",
              "          document.querySelector('#df-80ac520c-6af3-4fbe-9991-3dd12a9ff059 button.colab-df-convert');\n",
              "        buttonEl.style.display =\n",
              "          google.colab.kernel.accessAllowed ? 'block' : 'none';\n",
              "\n",
              "        async function convertToInteractive(key) {\n",
              "          const element = document.querySelector('#df-80ac520c-6af3-4fbe-9991-3dd12a9ff059');\n",
              "          const dataTable =\n",
              "            await google.colab.kernel.invokeFunction('convertToInteractive',\n",
              "                                                     [key], {});\n",
              "          if (!dataTable) return;\n",
              "\n",
              "          const docLinkHtml = 'Like what you see? Visit the ' +\n",
              "            '<a target=\"_blank\" href=https://colab.research.google.com/notebooks/data_table.ipynb>data table notebook</a>'\n",
              "            + ' to learn more about interactive tables.';\n",
              "          element.innerHTML = '';\n",
              "          dataTable['output_type'] = 'display_data';\n",
              "          await google.colab.output.renderOutput(dataTable, element);\n",
              "          const docLink = document.createElement('div');\n",
              "          docLink.innerHTML = docLinkHtml;\n",
              "          element.appendChild(docLink);\n",
              "        }\n",
              "      </script>\n",
              "    </div>\n",
              "  </div>\n",
              "  "
            ]
          },
          "metadata": {}
        },
        {
          "output_type": "display_data",
          "data": {
            "text/plain": [
              "       id  customer_id  course_id     type      state  \\\n",
              "0  970634     504760.0   201435.0    ORDER  CANCELLED   \n",
              "1  970650     432862.0   203178.0    ORDER  CANCELLED   \n",
              "2  970657      72297.0   204246.0  PAYMENT  COMPLETED   \n",
              "3  970656      72297.0   204246.0    ORDER  CANCELLED   \n",
              "4  970658     478028.0   201797.0  PAYMENT  COMPLETED   \n",
              "\n",
              "                    course_title category_title  format        completed_at  \\\n",
              "0      올인원 패키지 : 알고리즘 기술면접 완전 정복          프로그래밍     올인원 2021-03-28 15:00:11   \n",
              "1    초격차 패키지 : 한번에 끝내는 영상 촬영과 편집          영상/3D     올인원 2021-03-28 15:16:53   \n",
              "2           시크릿코드 : 프론트엔드 실무 완성편          프로그래밍  스쿨 온라인 2021-03-28 15:21:43   \n",
              "3           시크릿코드 : 프론트엔드 실무 완성편          프로그래밍  스쿨 온라인 2021-03-28 15:21:43   \n",
              "4  올인원 패키지 : 직장인 필수 스킬 3종 세트 MAX         업무 생산성     올인원 2021-03-28 15:21:54   \n",
              "\n",
              "   payment_amount              coupon_title  coupon_discount_amount  \\\n",
              "0           90500                       NaN                     NaN   \n",
              "1           96000                       NaN                     NaN   \n",
              "2          171810     [10% 할인] 시크릿코드 실무 완성편                 19090.0   \n",
              "3          171810                       NaN                     NaN   \n",
              "4           97500  [웰컴쿠폰] 올인원 패키지 2만원 할인 쿠폰                 20000.0   \n",
              "\n",
              "   sale_price  tax_free_amount agent method subcategory_title  \\\n",
              "0    110500.0         110500.0   NaN  VBANK           개발자 커리어   \n",
              "1    116000.0         116000.0   NaN   CARD             영상 편집   \n",
              "2    190900.0         190900.0   NaN   CARD               NaN   \n",
              "3    190900.0         190900.0   NaN   CARD               NaN   \n",
              "4    117500.0         117500.0   NaN   CARD           PPT/보고서   \n",
              "\n",
              "  marketing_start_at  \n",
              "0                NaT  \n",
              "1         2020-12-02  \n",
              "2         2021-03-04  \n",
              "3         2021-03-04  \n",
              "4         2019-11-14  "
            ],
            "text/html": [
              "\n",
              "  <div id=\"df-6658d694-de1f-421f-badd-93f5a8c5dd86\">\n",
              "    <div class=\"colab-df-container\">\n",
              "      <div>\n",
              "<style scoped>\n",
              "    .dataframe tbody tr th:only-of-type {\n",
              "        vertical-align: middle;\n",
              "    }\n",
              "\n",
              "    .dataframe tbody tr th {\n",
              "        vertical-align: top;\n",
              "    }\n",
              "\n",
              "    .dataframe thead th {\n",
              "        text-align: right;\n",
              "    }\n",
              "</style>\n",
              "<table border=\"1\" class=\"dataframe\">\n",
              "  <thead>\n",
              "    <tr style=\"text-align: right;\">\n",
              "      <th></th>\n",
              "      <th>id</th>\n",
              "      <th>customer_id</th>\n",
              "      <th>course_id</th>\n",
              "      <th>type</th>\n",
              "      <th>state</th>\n",
              "      <th>course_title</th>\n",
              "      <th>category_title</th>\n",
              "      <th>format</th>\n",
              "      <th>completed_at</th>\n",
              "      <th>payment_amount</th>\n",
              "      <th>coupon_title</th>\n",
              "      <th>coupon_discount_amount</th>\n",
              "      <th>sale_price</th>\n",
              "      <th>tax_free_amount</th>\n",
              "      <th>agent</th>\n",
              "      <th>method</th>\n",
              "      <th>subcategory_title</th>\n",
              "      <th>marketing_start_at</th>\n",
              "    </tr>\n",
              "  </thead>\n",
              "  <tbody>\n",
              "    <tr>\n",
              "      <th>0</th>\n",
              "      <td>970634</td>\n",
              "      <td>504760.0</td>\n",
              "      <td>201435.0</td>\n",
              "      <td>ORDER</td>\n",
              "      <td>CANCELLED</td>\n",
              "      <td>올인원 패키지 : 알고리즘 기술면접 완전 정복</td>\n",
              "      <td>프로그래밍</td>\n",
              "      <td>올인원</td>\n",
              "      <td>2021-03-28 15:00:11</td>\n",
              "      <td>90500</td>\n",
              "      <td>NaN</td>\n",
              "      <td>NaN</td>\n",
              "      <td>110500.0</td>\n",
              "      <td>110500.0</td>\n",
              "      <td>NaN</td>\n",
              "      <td>VBANK</td>\n",
              "      <td>개발자 커리어</td>\n",
              "      <td>NaT</td>\n",
              "    </tr>\n",
              "    <tr>\n",
              "      <th>1</th>\n",
              "      <td>970650</td>\n",
              "      <td>432862.0</td>\n",
              "      <td>203178.0</td>\n",
              "      <td>ORDER</td>\n",
              "      <td>CANCELLED</td>\n",
              "      <td>초격차 패키지 : 한번에 끝내는 영상 촬영과 편집</td>\n",
              "      <td>영상/3D</td>\n",
              "      <td>올인원</td>\n",
              "      <td>2021-03-28 15:16:53</td>\n",
              "      <td>96000</td>\n",
              "      <td>NaN</td>\n",
              "      <td>NaN</td>\n",
              "      <td>116000.0</td>\n",
              "      <td>116000.0</td>\n",
              "      <td>NaN</td>\n",
              "      <td>CARD</td>\n",
              "      <td>영상 편집</td>\n",
              "      <td>2020-12-02</td>\n",
              "    </tr>\n",
              "    <tr>\n",
              "      <th>2</th>\n",
              "      <td>970657</td>\n",
              "      <td>72297.0</td>\n",
              "      <td>204246.0</td>\n",
              "      <td>PAYMENT</td>\n",
              "      <td>COMPLETED</td>\n",
              "      <td>시크릿코드 : 프론트엔드 실무 완성편</td>\n",
              "      <td>프로그래밍</td>\n",
              "      <td>스쿨 온라인</td>\n",
              "      <td>2021-03-28 15:21:43</td>\n",
              "      <td>171810</td>\n",
              "      <td>[10% 할인] 시크릿코드 실무 완성편</td>\n",
              "      <td>19090.0</td>\n",
              "      <td>190900.0</td>\n",
              "      <td>190900.0</td>\n",
              "      <td>NaN</td>\n",
              "      <td>CARD</td>\n",
              "      <td>NaN</td>\n",
              "      <td>2021-03-04</td>\n",
              "    </tr>\n",
              "    <tr>\n",
              "      <th>3</th>\n",
              "      <td>970656</td>\n",
              "      <td>72297.0</td>\n",
              "      <td>204246.0</td>\n",
              "      <td>ORDER</td>\n",
              "      <td>CANCELLED</td>\n",
              "      <td>시크릿코드 : 프론트엔드 실무 완성편</td>\n",
              "      <td>프로그래밍</td>\n",
              "      <td>스쿨 온라인</td>\n",
              "      <td>2021-03-28 15:21:43</td>\n",
              "      <td>171810</td>\n",
              "      <td>NaN</td>\n",
              "      <td>NaN</td>\n",
              "      <td>190900.0</td>\n",
              "      <td>190900.0</td>\n",
              "      <td>NaN</td>\n",
              "      <td>CARD</td>\n",
              "      <td>NaN</td>\n",
              "      <td>2021-03-04</td>\n",
              "    </tr>\n",
              "    <tr>\n",
              "      <th>4</th>\n",
              "      <td>970658</td>\n",
              "      <td>478028.0</td>\n",
              "      <td>201797.0</td>\n",
              "      <td>PAYMENT</td>\n",
              "      <td>COMPLETED</td>\n",
              "      <td>올인원 패키지 : 직장인 필수 스킬 3종 세트 MAX</td>\n",
              "      <td>업무 생산성</td>\n",
              "      <td>올인원</td>\n",
              "      <td>2021-03-28 15:21:54</td>\n",
              "      <td>97500</td>\n",
              "      <td>[웰컴쿠폰] 올인원 패키지 2만원 할인 쿠폰</td>\n",
              "      <td>20000.0</td>\n",
              "      <td>117500.0</td>\n",
              "      <td>117500.0</td>\n",
              "      <td>NaN</td>\n",
              "      <td>CARD</td>\n",
              "      <td>PPT/보고서</td>\n",
              "      <td>2019-11-14</td>\n",
              "    </tr>\n",
              "  </tbody>\n",
              "</table>\n",
              "</div>\n",
              "      <button class=\"colab-df-convert\" onclick=\"convertToInteractive('df-6658d694-de1f-421f-badd-93f5a8c5dd86')\"\n",
              "              title=\"Convert this dataframe to an interactive table.\"\n",
              "              style=\"display:none;\">\n",
              "        \n",
              "  <svg xmlns=\"http://www.w3.org/2000/svg\" height=\"24px\"viewBox=\"0 0 24 24\"\n",
              "       width=\"24px\">\n",
              "    <path d=\"M0 0h24v24H0V0z\" fill=\"none\"/>\n",
              "    <path d=\"M18.56 5.44l.94 2.06.94-2.06 2.06-.94-2.06-.94-.94-2.06-.94 2.06-2.06.94zm-11 1L8.5 8.5l.94-2.06 2.06-.94-2.06-.94L8.5 2.5l-.94 2.06-2.06.94zm10 10l.94 2.06.94-2.06 2.06-.94-2.06-.94-.94-2.06-.94 2.06-2.06.94z\"/><path d=\"M17.41 7.96l-1.37-1.37c-.4-.4-.92-.59-1.43-.59-.52 0-1.04.2-1.43.59L10.3 9.45l-7.72 7.72c-.78.78-.78 2.05 0 2.83L4 21.41c.39.39.9.59 1.41.59.51 0 1.02-.2 1.41-.59l7.78-7.78 2.81-2.81c.8-.78.8-2.07 0-2.86zM5.41 20L4 18.59l7.72-7.72 1.47 1.35L5.41 20z\"/>\n",
              "  </svg>\n",
              "      </button>\n",
              "      \n",
              "  <style>\n",
              "    .colab-df-container {\n",
              "      display:flex;\n",
              "      flex-wrap:wrap;\n",
              "      gap: 12px;\n",
              "    }\n",
              "\n",
              "    .colab-df-convert {\n",
              "      background-color: #E8F0FE;\n",
              "      border: none;\n",
              "      border-radius: 50%;\n",
              "      cursor: pointer;\n",
              "      display: none;\n",
              "      fill: #1967D2;\n",
              "      height: 32px;\n",
              "      padding: 0 0 0 0;\n",
              "      width: 32px;\n",
              "    }\n",
              "\n",
              "    .colab-df-convert:hover {\n",
              "      background-color: #E2EBFA;\n",
              "      box-shadow: 0px 1px 2px rgba(60, 64, 67, 0.3), 0px 1px 3px 1px rgba(60, 64, 67, 0.15);\n",
              "      fill: #174EA6;\n",
              "    }\n",
              "\n",
              "    [theme=dark] .colab-df-convert {\n",
              "      background-color: #3B4455;\n",
              "      fill: #D2E3FC;\n",
              "    }\n",
              "\n",
              "    [theme=dark] .colab-df-convert:hover {\n",
              "      background-color: #434B5C;\n",
              "      box-shadow: 0px 1px 3px 1px rgba(0, 0, 0, 0.15);\n",
              "      filter: drop-shadow(0px 1px 2px rgba(0, 0, 0, 0.3));\n",
              "      fill: #FFFFFF;\n",
              "    }\n",
              "  </style>\n",
              "\n",
              "      <script>\n",
              "        const buttonEl =\n",
              "          document.querySelector('#df-6658d694-de1f-421f-badd-93f5a8c5dd86 button.colab-df-convert');\n",
              "        buttonEl.style.display =\n",
              "          google.colab.kernel.accessAllowed ? 'block' : 'none';\n",
              "\n",
              "        async function convertToInteractive(key) {\n",
              "          const element = document.querySelector('#df-6658d694-de1f-421f-badd-93f5a8c5dd86');\n",
              "          const dataTable =\n",
              "            await google.colab.kernel.invokeFunction('convertToInteractive',\n",
              "                                                     [key], {});\n",
              "          if (!dataTable) return;\n",
              "\n",
              "          const docLinkHtml = 'Like what you see? Visit the ' +\n",
              "            '<a target=\"_blank\" href=https://colab.research.google.com/notebooks/data_table.ipynb>data table notebook</a>'\n",
              "            + ' to learn more about interactive tables.';\n",
              "          element.innerHTML = '';\n",
              "          dataTable['output_type'] = 'display_data';\n",
              "          await google.colab.output.renderOutput(dataTable, element);\n",
              "          const docLink = document.createElement('div');\n",
              "          docLink.innerHTML = docLinkHtml;\n",
              "          element.appendChild(docLink);\n",
              "        }\n",
              "      </script>\n",
              "    </div>\n",
              "  </div>\n",
              "  "
            ]
          },
          "metadata": {}
        }
      ]
    },
    {
      "cell_type": "code",
      "source": [
        "#결측치 시각화\n",
        "msno.matrix(df=df.iloc[:, :], figsize=(8, 8), color=(0.2, 0.5, 0.2))"
      ],
      "metadata": {
        "colab": {
          "base_uri": "https://localhost:8080/",
          "height": 647
        },
        "id": "vt3vmoejlcs2",
        "outputId": "94b28e9b-e361-4322-e42f-17684659af64"
      },
      "execution_count": 11,
      "outputs": [
        {
          "output_type": "execute_result",
          "data": {
            "text/plain": [
              "<matplotlib.axes._subplots.AxesSubplot at 0x7f9ef0978390>"
            ]
          },
          "metadata": {},
          "execution_count": 11
        },
        {
          "output_type": "display_data",
          "data": {
            "text/plain": [
              "<Figure size 576x576 with 2 Axes>"
            ],
            "image/png": "[encoded data removed]"
          },
          "metadata": {
            "needs_background": "light"
          }
        }
      ]
    },
    {
      "cell_type": "markdown",
      "source": [
        "## 데이터 전처리"
      ],
      "metadata": {
        "id": "hjHsFILyCfp_"
      }
    },
    {
      "cell_type": "code",
      "source": [
        "del df['tax_free_amount'] # 보안상 데이터 공유 불가로 컬럼 삭제\n",
        "\n",
        "df['coupon_title'].fillna('사용안함', inplace=True) # 빈 결측치를 '쿠폰사용안함'으로 처리\n",
        "\n",
        "df['coupon_discount_amount'].fillna(0.0,inplace=True) # 빈 결측치를 0.0 으로 처리\n",
        "\n",
        "df['agent'].fillna('ETC', inplace=True) # pg대행사 이외의 결제는 기타(ETC)로 처리\n",
        "\n",
        "df.drop(index=47361, axis=0, inplace=True) # 불필요한 row 삭제\n",
        "\n",
        "df['subcategory_title'].fillna('해당없음', inplace=True) # 빈 결측치를 '해당없음'으로 처리\n",
        "\n",
        "df['course_id'].replace('', np.nan, inplace=True)\n",
        "\n",
        "df.dropna(subset=['course_id'], inplace=True) # DROP (null) -> 대부분 프로모션 ,한정 판매\n",
        "\n",
        "df['sale_price'].replace('', np.nan, inplace=True)\n",
        "\n",
        "df.dropna(subset=['sale_price'],inplace=True) # DROP (null)"
      ],
      "metadata": {
        "id": "cgzVtcAwCfJR"
      },
      "execution_count": 12,
      "outputs": []
    },
    {
      "cell_type": "code",
      "source": [
        "# 전처리 확인\n",
        "df.head(10)"
      ],
      "metadata": {
        "colab": {
          "base_uri": "https://localhost:8080/",
          "height": 948
        },
        "id": "d6VEybsNC9Dd",
        "outputId": "a17318b4-b050-4518-d31c-f5c85d560c74"
      },
      "execution_count": 13,
      "outputs": [
        {
          "output_type": "execute_result",
          "data": {
            "text/plain": [
              "        id  customer_id  course_id     type      state  \\\n",
              "0   970634     504760.0   201435.0    ORDER  CANCELLED   \n",
              "1   970650     432862.0   203178.0    ORDER  CANCELLED   \n",
              "2   970657      72297.0   204246.0  PAYMENT  COMPLETED   \n",
              "3   970656      72297.0   204246.0    ORDER  CANCELLED   \n",
              "4   970658     478028.0   201797.0  PAYMENT  COMPLETED   \n",
              "5   970655     478028.0   201797.0    ORDER  CANCELLED   \n",
              "7   970664     460730.0   200622.0    ORDER  CANCELLED   \n",
              "8   970669     478033.0   203178.0  PAYMENT  COMPLETED   \n",
              "9   970667     478033.0   203178.0    ORDER  CANCELLED   \n",
              "10  970671     469860.0   203644.0  PAYMENT  COMPLETED   \n",
              "\n",
              "                                      course_title category_title  format  \\\n",
              "0                        올인원 패키지 : 알고리즘 기술면접 완전 정복          프로그래밍     올인원   \n",
              "1                      초격차 패키지 : 한번에 끝내는 영상 촬영과 편집          영상/3D     올인원   \n",
              "2                             시크릿코드 : 프론트엔드 실무 완성편          프로그래밍  스쿨 온라인   \n",
              "3                             시크릿코드 : 프론트엔드 실무 완성편          프로그래밍  스쿨 온라인   \n",
              "4                    올인원 패키지 : 직장인 필수 스킬 3종 세트 MAX         업무 생산성     올인원   \n",
              "5                    올인원 패키지 : 직장인 필수 스킬 3종 세트 MAX         업무 생산성     올인원   \n",
              "7                     올인원 패키지 : 기업가치 평가와 M&A 전략 실무         부동산/금융     올인원   \n",
              "8                      초격차 패키지 : 한번에 끝내는 영상 촬영과 편집          영상/3D     올인원   \n",
              "9                      초격차 패키지 : 한번에 끝내는 영상 촬영과 편집          영상/3D     올인원   \n",
              "10  올인원 패키지 : 권오상의 금융 아카데미 - 권오상의 재무제표 분석 기초(평생소장)         부동산/금융     올인원   \n",
              "\n",
              "          completed_at  payment_amount              coupon_title  \\\n",
              "0  2021-03-28 15:00:11           90500                      사용안함   \n",
              "1  2021-03-28 15:16:53           96000                      사용안함   \n",
              "2  2021-03-28 15:21:43          171810     [10% 할인] 시크릿코드 실무 완성편   \n",
              "3  2021-03-28 15:21:43          171810                      사용안함   \n",
              "4  2021-03-28 15:21:54           97500  [웰컴쿠폰] 올인원 패키지 2만원 할인 쿠폰   \n",
              "5  2021-03-28 15:21:56           97500                      사용안함   \n",
              "7  2021-03-28 15:25:42          112500                      사용안함   \n",
              "8  2021-03-28 15:26:47           96000  [웰컴쿠폰] 올인원 패키지 2만원 할인 쿠폰   \n",
              "9  2021-03-28 15:26:48           96000                      사용안함   \n",
              "10 2021-03-28 15:27:17          263000                      사용안함   \n",
              "\n",
              "    coupon_discount_amount  sale_price agent method subcategory_title  \\\n",
              "0                      0.0    110500.0   ETC  VBANK           개발자 커리어   \n",
              "1                      0.0    116000.0   ETC   CARD             영상 편집   \n",
              "2                  19090.0    190900.0   ETC   CARD              해당없음   \n",
              "3                      0.0    190900.0   ETC   CARD              해당없음   \n",
              "4                  20000.0    117500.0   ETC   CARD           PPT/보고서   \n",
              "5                      0.0    117500.0   ETC   CARD           PPT/보고서   \n",
              "7                      0.0    122500.0   ETC   CARD          금융/투자 실무   \n",
              "8                  20000.0    116000.0   ETC   CARD             영상 편집   \n",
              "9                      0.0    116000.0   ETC   CARD             영상 편집   \n",
              "10                     0.0    263000.0   ETC   CARD              해당없음   \n",
              "\n",
              "   marketing_start_at  \n",
              "0                 NaT  \n",
              "1          2020-12-02  \n",
              "2          2021-03-04  \n",
              "3          2021-03-04  \n",
              "4          2019-11-14  \n",
              "5          2019-11-14  \n",
              "7          2019-05-02  \n",
              "8          2020-12-02  \n",
              "9          2020-12-02  \n",
              "10         2020-11-27  "
            ],
            "text/html": [
              "\n",
              "  <div id=\"df-63a59931-5404-4d09-a300-8ea208746f4e\">\n",
              "    <div class=\"colab-df-container\">\n",
              "      <div>\n",
              "<style scoped>\n",
              "    .dataframe tbody tr th:only-of-type {\n",
              "        vertical-align: middle;\n",
              "    }\n",
              "\n",
              "    .dataframe tbody tr th {\n",
              "        vertical-align: top;\n",
              "    }\n",
              "\n",
              "    .dataframe thead th {\n",
              "        text-align: right;\n",
              "    }\n",
              "</style>\n",
              "<table border=\"1\" class=\"dataframe\">\n",
              "  <thead>\n",
              "    <tr style=\"text-align: right;\">\n",
              "      <th></th>\n",
              "      <th>id</th>\n",
              "      <th>customer_id</th>\n",
              "      <th>course_id</th>\n",
              "      <th>type</th>\n",
              "      <th>state</th>\n",
              "      <th>course_title</th>\n",
              "      <th>category_title</th>\n",
              "      <th>format</th>\n",
              "      <th>completed_at</th>\n",
              "      <th>payment_amount</th>\n",
              "      <th>coupon_title</th>\n",
              "      <th>coupon_discount_amount</th>\n",
              "      <th>sale_price</th>\n",
              "      <th>agent</th>\n",
              "      <th>method</th>\n",
              "      <th>subcategory_title</th>\n",
              "      <th>marketing_start_at</th>\n",
              "    </tr>\n",
              "  </thead>\n",
              "  <tbody>\n",
              "    <tr>\n",
              "      <th>0</th>\n",
              "      <td>970634</td>\n",
              "      <td>504760.0</td>\n",
              "      <td>201435.0</td>\n",
              "      <td>ORDER</td>\n",
              "      <td>CANCELLED</td>\n",
              "      <td>올인원 패키지 : 알고리즘 기술면접 완전 정복</td>\n",
              "      <td>프로그래밍</td>\n",
              "      <td>올인원</td>\n",
              "      <td>2021-03-28 15:00:11</td>\n",
              "      <td>90500</td>\n",
              "      <td>사용안함</td>\n",
              "      <td>0.0</td>\n",
              "      <td>110500.0</td>\n",
              "      <td>ETC</td>\n",
              "      <td>VBANK</td>\n",
              "      <td>개발자 커리어</td>\n",
              "      <td>NaT</td>\n",
              "    </tr>\n",
              "    <tr>\n",
              "      <th>1</th>\n",
              "      <td>970650</td>\n",
              "      <td>432862.0</td>\n",
              "      <td>203178.0</td>\n",
              "      <td>ORDER</td>\n",
              "      <td>CANCELLED</td>\n",
              "      <td>초격차 패키지 : 한번에 끝내는 영상 촬영과 편집</td>\n",
              "      <td>영상/3D</td>\n",
              "      <td>올인원</td>\n",
              "      <td>2021-03-28 15:16:53</td>\n",
              "      <td>96000</td>\n",
              "      <td>사용안함</td>\n",
              "      <td>0.0</td>\n",
              "      <td>116000.0</td>\n",
              "      <td>ETC</td>\n",
              "      <td>CARD</td>\n",
              "      <td>영상 편집</td>\n",
              "      <td>2020-12-02</td>\n",
              "    </tr>\n",
              "    <tr>\n",
              "      <th>2</th>\n",
              "      <td>970657</td>\n",
              "      <td>72297.0</td>\n",
              "      <td>204246.0</td>\n",
              "      <td>PAYMENT</td>\n",
              "      <td>COMPLETED</td>\n",
              "      <td>시크릿코드 : 프론트엔드 실무 완성편</td>\n",
              "      <td>프로그래밍</td>\n",
              "      <td>스쿨 온라인</td>\n",
              "      <td>2021-03-28 15:21:43</td>\n",
              "      <td>171810</td>\n",
              "      <td>[10% 할인] 시크릿코드 실무 완성편</td>\n",
              "      <td>19090.0</td>\n",
              "      <td>190900.0</td>\n",
              "      <td>ETC</td>\n",
              "      <td>CARD</td>\n",
              "      <td>해당없음</td>\n",
              "      <td>2021-03-04</td>\n",
              "    </tr>\n",
              "    <tr>\n",
              "      <th>3</th>\n",
              "      <td>970656</td>\n",
              "      <td>72297.0</td>\n",
              "      <td>204246.0</td>\n",
              "      <td>ORDER</td>\n",
              "      <td>CANCELLED</td>\n",
              "      <td>시크릿코드 : 프론트엔드 실무 완성편</td>\n",
              "      <td>프로그래밍</td>\n",
              "      <td>스쿨 온라인</td>\n",
              "      <td>2021-03-28 15:21:43</td>\n",
              "      <td>171810</td>\n",
              "      <td>사용안함</td>\n",
              "      <td>0.0</td>\n",
              "      <td>190900.0</td>\n",
              "      <td>ETC</td>\n",
              "      <td>CARD</td>\n",
              "      <td>해당없음</td>\n",
              "      <td>2021-03-04</td>\n",
              "    </tr>\n",
              "    <tr>\n",
              "      <th>4</th>\n",
              "      <td>970658</td>\n",
              "      <td>478028.0</td>\n",
              "      <td>201797.0</td>\n",
              "      <td>PAYMENT</td>\n",
              "      <td>COMPLETED</td>\n",
              "      <td>올인원 패키지 : 직장인 필수 스킬 3종 세트 MAX</td>\n",
              "      <td>업무 생산성</td>\n",
              "      <td>올인원</td>\n",
              "      <td>2021-03-28 15:21:54</td>\n",
              "      <td>97500</td>\n",
              "      <td>[웰컴쿠폰] 올인원 패키지 2만원 할인 쿠폰</td>\n",
              "      <td>20000.0</td>\n",
              "      <td>117500.0</td>\n",
              "      <td>ETC</td>\n",
              "      <td>CARD</td>\n",
              "      <td>PPT/보고서</td>\n",
              "      <td>2019-11-14</td>\n",
              "    </tr>\n",
              "    <tr>\n",
              "      <th>5</th>\n",
              "      <td>970655</td>\n",
              "      <td>478028.0</td>\n",
              "      <td>201797.0</td>\n",
              "      <td>ORDER</td>\n",
              "      <td>CANCELLED</td>\n",
              "      <td>올인원 패키지 : 직장인 필수 스킬 3종 세트 MAX</td>\n",
              "      <td>업무 생산성</td>\n",
              "      <td>올인원</td>\n",
              "      <td>2021-03-28 15:21:56</td>\n",
              "      <td>97500</td>\n",
              "      <td>사용안함</td>\n",
              "      <td>0.0</td>\n",
              "      <td>117500.0</td>\n",
              "      <td>ETC</td>\n",
              "      <td>CARD</td>\n",
              "      <td>PPT/보고서</td>\n",
              "      <td>2019-11-14</td>\n",
              "    </tr>\n",
              "    <tr>\n",
              "      <th>7</th>\n",
              "      <td>970664</td>\n",
              "      <td>460730.0</td>\n",
              "      <td>200622.0</td>\n",
              "      <td>ORDER</td>\n",
              "      <td>CANCELLED</td>\n",
              "      <td>올인원 패키지 : 기업가치 평가와 M&amp;A 전략 실무</td>\n",
              "      <td>부동산/금융</td>\n",
              "      <td>올인원</td>\n",
              "      <td>2021-03-28 15:25:42</td>\n",
              "      <td>112500</td>\n",
              "      <td>사용안함</td>\n",
              "      <td>0.0</td>\n",
              "      <td>122500.0</td>\n",
              "      <td>ETC</td>\n",
              "      <td>CARD</td>\n",
              "      <td>금융/투자 실무</td>\n",
              "      <td>2019-05-02</td>\n",
              "    </tr>\n",
              "    <tr>\n",
              "      <th>8</th>\n",
              "      <td>970669</td>\n",
              "      <td>478033.0</td>\n",
              "      <td>203178.0</td>\n",
              "      <td>PAYMENT</td>\n",
              "      <td>COMPLETED</td>\n",
              "      <td>초격차 패키지 : 한번에 끝내는 영상 촬영과 편집</td>\n",
              "      <td>영상/3D</td>\n",
              "      <td>올인원</td>\n",
              "      <td>2021-03-28 15:26:47</td>\n",
              "      <td>96000</td>\n",
              "      <td>[웰컴쿠폰] 올인원 패키지 2만원 할인 쿠폰</td>\n",
              "      <td>20000.0</td>\n",
              "      <td>116000.0</td>\n",
              "      <td>ETC</td>\n",
              "      <td>CARD</td>\n",
              "      <td>영상 편집</td>\n",
              "      <td>2020-12-02</td>\n",
              "    </tr>\n",
              "    <tr>\n",
              "      <th>9</th>\n",
              "      <td>970667</td>\n",
              "      <td>478033.0</td>\n",
              "      <td>203178.0</td>\n",
              "      <td>ORDER</td>\n",
              "      <td>CANCELLED</td>\n",
              "      <td>초격차 패키지 : 한번에 끝내는 영상 촬영과 편집</td>\n",
              "      <td>영상/3D</td>\n",
              "      <td>올인원</td>\n",
              "      <td>2021-03-28 15:26:48</td>\n",
              "      <td>96000</td>\n",
              "      <td>사용안함</td>\n",
              "      <td>0.0</td>\n",
              "      <td>116000.0</td>\n",
              "      <td>ETC</td>\n",
              "      <td>CARD</td>\n",
              "      <td>영상 편집</td>\n",
              "      <td>2020-12-02</td>\n",
              "    </tr>\n",
              "    <tr>\n",
              "      <th>10</th>\n",
              "      <td>970671</td>\n",
              "      <td>469860.0</td>\n",
              "      <td>203644.0</td>\n",
              "      <td>PAYMENT</td>\n",
              "      <td>COMPLETED</td>\n",
              "      <td>올인원 패키지 : 권오상의 금융 아카데미 - 권오상의 재무제표 분석 기초(평생소장)</td>\n",
              "      <td>부동산/금융</td>\n",
              "      <td>올인원</td>\n",
              "      <td>2021-03-28 15:27:17</td>\n",
              "      <td>263000</td>\n",
              "      <td>사용안함</td>\n",
              "      <td>0.0</td>\n",
              "      <td>263000.0</td>\n",
              "      <td>ETC</td>\n",
              "      <td>CARD</td>\n",
              "      <td>해당없음</td>\n",
              "      <td>2020-11-27</td>\n",
              "    </tr>\n",
              "  </tbody>\n",
              "</table>\n",
              "</div>\n",
              "      <button class=\"colab-df-convert\" onclick=\"convertToInteractive('df-63a59931-5404-4d09-a300-8ea208746f4e')\"\n",
              "              title=\"Convert this dataframe to an interactive table.\"\n",
              "              style=\"display:none;\">\n",
              "        \n",
              "  <svg xmlns=\"http://www.w3.org/2000/svg\" height=\"24px\"viewBox=\"0 0 24 24\"\n",
              "       width=\"24px\">\n",
              "    <path d=\"M0 0h24v24H0V0z\" fill=\"none\"/>\n",
              "    <path d=\"M18.56 5.44l.94 2.06.94-2.06 2.06-.94-2.06-.94-.94-2.06-.94 2.06-2.06.94zm-11 1L8.5 8.5l.94-2.06 2.06-.94-2.06-.94L8.5 2.5l-.94 2.06-2.06.94zm10 10l.94 2.06.94-2.06 2.06-.94-2.06-.94-.94-2.06-.94 2.06-2.06.94z\"/><path d=\"M17.41 7.96l-1.37-1.37c-.4-.4-.92-.59-1.43-.59-.52 0-1.04.2-1.43.59L10.3 9.45l-7.72 7.72c-.78.78-.78 2.05 0 2.83L4 21.41c.39.39.9.59 1.41.59.51 0 1.02-.2 1.41-.59l7.78-7.78 2.81-2.81c.8-.78.8-2.07 0-2.86zM5.41 20L4 18.59l7.72-7.72 1.47 1.35L5.41 20z\"/>\n",
              "  </svg>\n",
              "      </button>\n",
              "      \n",
              "  <style>\n",
              "    .colab-df-container {\n",
              "      display:flex;\n",
              "      flex-wrap:wrap;\n",
              "      gap: 12px;\n",
              "    }\n",
              "\n",
              "    .colab-df-convert {\n",
              "      background-color: #E8F0FE;\n",
              "      border: none;\n",
              "      border-radius: 50%;\n",
              "      cursor: pointer;\n",
              "      display: none;\n",
              "      fill: #1967D2;\n",
              "      height: 32px;\n",
              "      padding: 0 0 0 0;\n",
              "      width: 32px;\n",
              "    }\n",
              "\n",
              "    .colab-df-convert:hover {\n",
              "      background-color: #E2EBFA;\n",
              "      box-shadow: 0px 1px 2px rgba(60, 64, 67, 0.3), 0px 1px 3px 1px rgba(60, 64, 67, 0.15);\n",
              "      fill: #174EA6;\n",
              "    }\n",
              "\n",
              "    [theme=dark] .colab-df-convert {\n",
              "      background-color: #3B4455;\n",
              "      fill: #D2E3FC;\n",
              "    }\n",
              "\n",
              "    [theme=dark] .colab-df-convert:hover {\n",
              "      background-color: #434B5C;\n",
              "      box-shadow: 0px 1px 3px 1px rgba(0, 0, 0, 0.15);\n",
              "      filter: drop-shadow(0px 1px 2px rgba(0, 0, 0, 0.3));\n",
              "      fill: #FFFFFF;\n",
              "    }\n",
              "  </style>\n",
              "\n",
              "      <script>\n",
              "        const buttonEl =\n",
              "          document.querySelector('#df-63a59931-5404-4d09-a300-8ea208746f4e button.colab-df-convert');\n",
              "        buttonEl.style.display =\n",
              "          google.colab.kernel.accessAllowed ? 'block' : 'none';\n",
              "\n",
              "        async function convertToInteractive(key) {\n",
              "          const element = document.querySelector('#df-63a59931-5404-4d09-a300-8ea208746f4e');\n",
              "          const dataTable =\n",
              "            await google.colab.kernel.invokeFunction('convertToInteractive',\n",
              "                                                     [key], {});\n",
              "          if (!dataTable) return;\n",
              "\n",
              "          const docLinkHtml = 'Like what you see? Visit the ' +\n",
              "            '<a target=\"_blank\" href=https://colab.research.google.com/notebooks/data_table.ipynb>data table notebook</a>'\n",
              "            + ' to learn more about interactive tables.';\n",
              "          element.innerHTML = '';\n",
              "          dataTable['output_type'] = 'display_data';\n",
              "          await google.colab.output.renderOutput(dataTable, element);\n",
              "          const docLink = document.createElement('div');\n",
              "          docLink.innerHTML = docLinkHtml;\n",
              "          element.appendChild(docLink);\n",
              "        }\n",
              "      </script>\n",
              "    </div>\n",
              "  </div>\n",
              "  "
            ]
          },
          "metadata": {},
          "execution_count": 13
        }
      ]
    },
    {
      "cell_type": "markdown",
      "source": [
        "# EDA 진행"
      ],
      "metadata": {
        "id": "yitgf6vUYUl4"
      }
    },
    {
      "cell_type": "markdown",
      "source": [
        "## type *결측치 확인"
      ],
      "metadata": {
        "id": "g4avQXHjKetd"
      }
    },
    {
      "cell_type": "code",
      "source": [
        "df['type'].value_counts()"
      ],
      "metadata": {
        "colab": {
          "base_uri": "https://localhost:8080/"
        },
        "id": "nVB1qQbDta3y",
        "outputId": "39a51f7a-c0c0-4c91-a44b-12967318db10"
      },
      "execution_count": 14,
      "outputs": [
        {
          "output_type": "execute_result",
          "data": {
            "text/plain": [
              "PAYMENT    57895\n",
              "ORDER      37568\n",
              "REFUND      3637\n",
              "Name: type, dtype: int64"
            ]
          },
          "metadata": {},
          "execution_count": 14
        }
      ]
    },
    {
      "cell_type": "code",
      "source": [
        "fig = plt.figure(figsize=(12,6))\n",
        "graph1 = fig.add_subplot(1,2,1)\n",
        "df['type'].value_counts().plot.pie(autopct='%1.2f%%',ax=graph1)\n",
        "graph1.set_title('type')\n",
        "graph1.set_ylabel('')\n",
        "graph2 = fig.add_subplot(1,2,2)\n",
        "sns.countplot('type',data=df,ax=graph2)\n",
        "graph2.set_title('type')\n",
        "plt.show(fig)"
      ],
      "metadata": {
        "colab": {
          "base_uri": "https://localhost:8080/",
          "height": 403
        },
        "id": "jU2jhAL3teNl",
        "outputId": "62706518-adbd-4f6d-d75f-ff4af4d46e12"
      },
      "execution_count": 15,
      "outputs": [
        {
          "output_type": "display_data",
          "data": {
            "text/plain": [
              "<Figure size 864x432 with 2 Axes>"
            ],
            "image/png": "[encoded data removed]"
          },
          "metadata": {
            "needs_background": "light"
          }
        }
      ]
    },
    {
      "cell_type": "markdown",
      "source": [
        "## state *결측치 확인"
      ],
      "metadata": {
        "id": "ApBGQ2PQKif2"
      }
    },
    {
      "cell_type": "code",
      "source": [
        "df['state'].value_counts()"
      ],
      "metadata": {
        "colab": {
          "base_uri": "https://localhost:8080/"
        },
        "id": "sfT4Vvbevb4e",
        "outputId": "60f46eb9-0a56-4780-d1bf-c945bd2dab50"
      },
      "execution_count": 16,
      "outputs": [
        {
          "output_type": "execute_result",
          "data": {
            "text/plain": [
              "COMPLETED    59154\n",
              "CANCELLED    38704\n",
              "PENDING       1065\n",
              "DELETED        164\n",
              "REQUESTED       13\n",
              "Name: state, dtype: int64"
            ]
          },
          "metadata": {},
          "execution_count": 16
        }
      ]
    },
    {
      "cell_type": "code",
      "source": [
        "plt.figure(figsize=(8,8))\n",
        "sns.countplot(data=df,x='state')\n",
        "plt.show()"
      ],
      "metadata": {
        "colab": {
          "base_uri": "https://localhost:8080/",
          "height": 495
        },
        "id": "l3M4CYIuyEKB",
        "outputId": "c8929ea0-3c73-4614-bb02-84d1f1354538"
      },
      "execution_count": 17,
      "outputs": [
        {
          "output_type": "display_data",
          "data": {
            "text/plain": [
              "<Figure size 576x576 with 1 Axes>"
            ],
            "image/png": "[encoded data removed]"
          },
          "metadata": {
            "needs_background": "light"
          }
        }
      ]
    },
    {
      "cell_type": "markdown",
      "source": [
        "## course_title 분석하기 적합x"
      ],
      "metadata": {
        "id": "ciM0jwWqKqaP"
      }
    },
    {
      "cell_type": "code",
      "source": [
        "df['course_title'].value_counts()"
      ],
      "metadata": {
        "colab": {
          "base_uri": "https://localhost:8080/"
        },
        "id": "QOjv1M9hxKpS",
        "outputId": "9f7b0bd8-bd2f-4fd1-aa92-c254c9a9595d"
      },
      "execution_count": 18,
      "outputs": [
        {
          "output_type": "execute_result",
          "data": {
            "text/plain": [
              "초격차 패키지 : 한 번에 끝내는 프론트엔드 개발               3255\n",
              "초격차 패키지 : 한번에 끝내는 Java/Spring 웹 개발 마스터    2756\n",
              "초격차 패키지 : 한번에 끝내는 영상 촬영과 편집               2540\n",
              "The RED : 김영하 작가의 내 안의 숨은 이야기를 찾아 쓰는 법    2132\n",
              "올인원 패키지 : star741의 캐주얼 일러스트 드로잉           1636\n",
              "                                          ... \n",
              "승인받는 이모티콘 만들기 온라인 완주반 1기                     1\n",
              "(B2B) 리틀프렌즈 온라인 구독 올 플랜                      1\n",
              "(B2B) 비바리퍼블리카 온라인 구독 올 플랜 (8월-6개월)           1\n",
              "브런치로 책 출판 온라인 완주반 3기                         1\n",
              "(B2B) 디캠프 패밀리사 온라인 구독 올 플랜 (9월)              1\n",
              "Name: course_title, Length: 404, dtype: int64"
            ]
          },
          "metadata": {},
          "execution_count": 18
        }
      ]
    },
    {
      "cell_type": "markdown",
      "source": [
        "## category_title"
      ],
      "metadata": {
        "id": "BTceAz4XLGdb"
      }
    },
    {
      "cell_type": "code",
      "source": [
        "df['category_title'].value_counts()"
      ],
      "metadata": {
        "colab": {
          "base_uri": "https://localhost:8080/"
        },
        "id": "V-Sm8kItxNEN",
        "outputId": "ab8ccd1f-0fb4-4ad7-fe64-906f0f56ed96"
      },
      "execution_count": 19,
      "outputs": [
        {
          "output_type": "execute_result",
          "data": {
            "text/plain": [
              "프로그래밍       33109\n",
              "업무 생산성      12896\n",
              "데이터사이언스     12632\n",
              "디자인         11989\n",
              "영상/3D       10248\n",
              "마케팅          9319\n",
              "부동산/금융       5287\n",
              "투자/재테크       2501\n",
              "크리에이티브        911\n",
              "교육            128\n",
              "지식콘텐츠          56\n",
              "비즈니스           12\n",
              "데이터 사이언스        9\n",
              "관리              2\n",
              "일러스트            1\n",
              "Name: category_title, dtype: int64"
            ]
          },
          "metadata": {},
          "execution_count": 19
        }
      ]
    },
    {
      "cell_type": "markdown",
      "source": [
        "### 구매가 많은 카테고리"
      ],
      "metadata": {
        "id": "oVDfHqdz1ilf"
      }
    },
    {
      "cell_type": "code",
      "source": [
        "# 구매가 많은 카테고리 재구성\n",
        "df1 = df.groupby('type').get_group('PAYMENT')"
      ],
      "metadata": {
        "id": "FGJH6tkkzyE5"
      },
      "execution_count": 41,
      "outputs": []
    },
    {
      "cell_type": "code",
      "source": [
        "plt.figure(figsize=(10,6))\n",
        "plt.rc(\"font\", family=\"NanumBarunGothic\")\n",
        "sns.countplot(data=df1, y='category_title')\n",
        "plt.title('PAYMENT')"
      ],
      "metadata": {
        "colab": {
          "base_uri": "https://localhost:8080/",
          "height": 421
        },
        "id": "QVmrZD6gz1gO",
        "outputId": "dbd8573f-ad50-4d96-80ca-d924c190a3bd"
      },
      "execution_count": 42,
      "outputs": [
        {
          "output_type": "execute_result",
          "data": {
            "text/plain": [
              "Text(0.5, 1.0, 'PAYMENT')"
            ]
          },
          "metadata": {},
          "execution_count": 42
        },
        {
          "output_type": "display_data",
          "data": {
            "text/plain": [
              "<Figure size 720x432 with 1 Axes>"
            ],
            "image/png": "[encoded data removed]"
          },
          "metadata": {}
        }
      ]
    },
    {
      "cell_type": "code",
      "source": [
        ""
      ],
      "metadata": {
        "id": "7ulTxwWY1guI"
      },
      "execution_count": null,
      "outputs": []
    },
    {
      "cell_type": "markdown",
      "source": [
        "### 환불이 많은 카테고리"
      ],
      "metadata": {
        "id": "u7vFPsWl1mfp"
      }
    },
    {
      "cell_type": "code",
      "source": [
        "# 환불이 많은 카테고리 재구성\n",
        "df2 = df.groupby('type').get_group('REFUND')"
      ],
      "metadata": {
        "id": "9PUnQx7F1VRU"
      },
      "execution_count": 46,
      "outputs": []
    },
    {
      "cell_type": "code",
      "source": [
        "plt.figure(figsize=(10,6))\n",
        "plt.rc(\"font\", family=\"NanumBarunGothic\")\n",
        "sns.countplot(data=df2, y='category_title')\n",
        "plt.title('REFUND')"
      ],
      "metadata": {
        "colab": {
          "base_uri": "https://localhost:8080/",
          "height": 421
        },
        "id": "Ok1XeQO91WLE",
        "outputId": "9cfea049-018b-4a33-cf4e-034128be40ed"
      },
      "execution_count": 47,
      "outputs": [
        {
          "output_type": "execute_result",
          "data": {
            "text/plain": [
              "Text(0.5, 1.0, 'REFUND')"
            ]
          },
          "metadata": {},
          "execution_count": 47
        },
        {
          "output_type": "display_data",
          "data": {
            "text/plain": [
              "<Figure size 720x432 with 1 Axes>"
            ],
            "image/png": "[encoded data removed]"
          },
          "metadata": {}
        }
      ]
    },
    {
      "cell_type": "markdown",
      "source": [
        "## format *올인원 내에서 분석해보기"
      ],
      "metadata": {
        "id": "ScQTtZK8LIvg"
      }
    },
    {
      "cell_type": "code",
      "source": [
        "df['format'].value_counts()"
      ],
      "metadata": {
        "colab": {
          "base_uri": "https://localhost:8080/"
        },
        "id": "faXAHb1IxPuo",
        "outputId": "30d0b427-500b-4876-e746-b2a8d9d2c4fe"
      },
      "execution_count": 20,
      "outputs": [
        {
          "output_type": "execute_result",
          "data": {
            "text/plain": [
              "올인원        82181\n",
              "RED         6253\n",
              "온라인 완주반     3815\n",
              "하루10분컷      2978\n",
              "스쿨 온라인      1057\n",
              "스쿨           957\n",
              "B2B          763\n",
              "B2G          591\n",
              "이벤트          193\n",
              "B2B 온라인      132\n",
              "아카이브          72\n",
              "MBA           56\n",
              "캠프            48\n",
              "관리             2\n",
              "콜로소            2\n",
              "Name: format, dtype: int64"
            ]
          },
          "metadata": {},
          "execution_count": 20
        }
      ]
    },
    {
      "cell_type": "markdown",
      "source": [
        "### 구매가 많은 강의 기획"
      ],
      "metadata": {
        "id": "mXhe3d333FjR"
      }
    },
    {
      "cell_type": "code",
      "source": [
        "# 구매가 많은 카테고리 재구성\n",
        "df1 = df.groupby('type').get_group('PAYMENT')"
      ],
      "metadata": {
        "id": "BVt-T3zt29k9"
      },
      "execution_count": 48,
      "outputs": []
    },
    {
      "cell_type": "code",
      "source": [
        "plt.figure(figsize=(10,6))\n",
        "plt.rc(\"font\", family=\"NanumBarunGothic\")\n",
        "sns.countplot(data=df1, y='format')\n",
        "plt.title('PAYMENT')"
      ],
      "metadata": {
        "colab": {
          "base_uri": "https://localhost:8080/",
          "height": 421
        },
        "id": "BL09cWW_257d",
        "outputId": "f7ce5681-04d4-49bb-e2c9-7aae63988db2"
      },
      "execution_count": 49,
      "outputs": [
        {
          "output_type": "execute_result",
          "data": {
            "text/plain": [
              "Text(0.5, 1.0, 'PAYMENT')"
            ]
          },
          "metadata": {},
          "execution_count": 49
        },
        {
          "output_type": "display_data",
          "data": {
            "text/plain": [
              "<Figure size 720x432 with 1 Axes>"
            ],
            "image/png": "[encoded data removed]"
          },
          "metadata": {}
        }
      ]
    },
    {
      "cell_type": "markdown",
      "source": [
        "### 환불이 많은 강의 기획"
      ],
      "metadata": {
        "id": "CEQtYUSO3K8w"
      }
    },
    {
      "cell_type": "code",
      "source": [
        "# 환불이 많은 카테고리 재구성\n",
        "df2 = df.groupby('type').get_group('REFUND')"
      ],
      "metadata": {
        "id": "fmFd9ZIT3Ov2"
      },
      "execution_count": 50,
      "outputs": []
    },
    {
      "cell_type": "code",
      "source": [
        "plt.figure(figsize=(10,6))\n",
        "plt.rc(\"font\", family=\"NanumBarunGothic\")\n",
        "sns.countplot(data=df2, y='format')\n",
        "plt.title('REFUND')"
      ],
      "metadata": {
        "colab": {
          "base_uri": "https://localhost:8080/",
          "height": 421
        },
        "id": "mymlA-xT3QPN",
        "outputId": "a9c6fb71-69a9-4f15-9228-6b9fc79ffbf5"
      },
      "execution_count": 51,
      "outputs": [
        {
          "output_type": "execute_result",
          "data": {
            "text/plain": [
              "Text(0.5, 1.0, 'REFUND')"
            ]
          },
          "metadata": {},
          "execution_count": 51
        },
        {
          "output_type": "display_data",
          "data": {
            "text/plain": [
              "<Figure size 720x432 with 1 Axes>"
            ],
            "image/png": "[encoded data removed]"
          },
          "metadata": {}
        }
      ]
    },
    {
      "cell_type": "markdown",
      "source": [
        "##completed_at"
      ],
      "metadata": {
        "id": "d5SrdCMILKLx"
      }
    },
    {
      "cell_type": "code",
      "source": [
        "df['completed_at'].value_counts()"
      ],
      "metadata": {
        "colab": {
          "base_uri": "https://localhost:8080/"
        },
        "id": "TV4U0_x9s5a5",
        "outputId": "30642da2-a3fe-468c-caf9-170e1932baf3"
      },
      "execution_count": 21,
      "outputs": [
        {
          "output_type": "execute_result",
          "data": {
            "text/plain": [
              "2021-09-17 14:37:49    16\n",
              "2021-03-30 13:42:51    15\n",
              "2021-05-03 16:15:25    10\n",
              "2021-04-28 09:31:40     8\n",
              "2021-08-12 13:32:10     8\n",
              "                       ..\n",
              "2021-05-19 12:36:06     1\n",
              "2021-05-19 12:28:38     1\n",
              "2021-05-19 12:16:50     1\n",
              "2021-05-19 12:16:33     1\n",
              "2021-09-25 14:25:47     1\n",
              "Name: completed_at, Length: 92976, dtype: int64"
            ]
          },
          "metadata": {},
          "execution_count": 21
        }
      ]
    },
    {
      "cell_type": "code",
      "source": [
        "df['completed_at'].hist(bins=50,figsize=(15,10))"
      ],
      "metadata": {
        "colab": {
          "base_uri": "https://localhost:8080/",
          "height": 606
        },
        "id": "Vm0G__UpszMd",
        "outputId": "e251fd37-9df7-4277-86bd-3f05c16037bb"
      },
      "execution_count": 22,
      "outputs": [
        {
          "output_type": "execute_result",
          "data": {
            "text/plain": [
              "<matplotlib.axes._subplots.AxesSubplot at 0x7f9ef0985fd0>"
            ]
          },
          "metadata": {},
          "execution_count": 22
        },
        {
          "output_type": "display_data",
          "data": {
            "text/plain": [
              "<Figure size 1080x720 with 1 Axes>"
            ],
            "image/png": "[encoded data removed]"
          },
          "metadata": {
            "needs_background": "light"
          }
        }
      ]
    },
    {
      "cell_type": "markdown",
      "source": [
        "### REFUND & PAYMENT"
      ],
      "metadata": {
        "id": "Ox1gd3TU4jum"
      }
    },
    {
      "cell_type": "code",
      "source": [
        "fig = plt.figure(figsize=(12,6))\n",
        "graph1 = fig.add_subplot(1,1,1)\n",
        "sns.kdeplot(df[\"completed_at\"][(df[\"type\"] == \"REFUND\")], \n",
        "                ax = graph1, color=\"Blue\", shade = True)\n",
        "sns.kdeplot(df[\"completed_at\"][(df[\"type\"] == \"PAYMENT\")], \n",
        "                ax =graph1, color=\"Green\", shade= True)\n",
        "graph1.set_xlabel(\"completed_at\")\n",
        "graph1.set_ylabel(\"\")\n",
        "graph1.legend([\"REFUND\",\"PAYMENT\"])"
      ],
      "metadata": {
        "colab": {
          "base_uri": "https://localhost:8080/",
          "height": 405
        },
        "id": "X5OO5x2O31JM",
        "outputId": "a417b884-490d-46b8-b177-226300bb36a9"
      },
      "execution_count": 58,
      "outputs": [
        {
          "output_type": "execute_result",
          "data": {
            "text/plain": [
              "<matplotlib.legend.Legend at 0x7f9ef80a1150>"
            ]
          },
          "metadata": {},
          "execution_count": 58
        },
        {
          "output_type": "display_data",
          "data": {
            "text/plain": [
              "<Figure size 864x432 with 1 Axes>"
            ],
            "image/png": "[encoded data removed]"
          },
          "metadata": {}
        }
      ]
    },
    {
      "cell_type": "markdown",
      "source": [
        "## payment_amount(transaction_amount)"
      ],
      "metadata": {
        "id": "ycCo422PLMdZ"
      }
    },
    {
      "cell_type": "code",
      "source": [
        "df['payment_amount'].value_counts()"
      ],
      "metadata": {
        "colab": {
          "base_uri": "https://localhost:8080/"
        },
        "id": "bfJkfPBIxUuY",
        "outputId": "4e6b8efd-8884-4977-ba9a-df298557f743"
      },
      "execution_count": 23,
      "outputs": [
        {
          "output_type": "execute_result",
          "data": {
            "text/plain": [
              " 0         4733\n",
              " 99000     1905\n",
              " 119000    1649\n",
              " 149000    1615\n",
              " 100000    1559\n",
              "           ... \n",
              " 600          1\n",
              "-41500        1\n",
              " 64542        1\n",
              "-417000       1\n",
              "-108186       1\n",
              "Name: payment_amount, Length: 2174, dtype: int64"
            ]
          },
          "metadata": {},
          "execution_count": 23
        }
      ]
    },
    {
      "cell_type": "markdown",
      "source": [
        "## coupon_title 분석하기 적합x"
      ],
      "metadata": {
        "id": "jsYCGg5ZLUJU"
      }
    },
    {
      "cell_type": "code",
      "source": [
        "df['coupon_title'].value_counts()"
      ],
      "metadata": {
        "colab": {
          "base_uri": "https://localhost:8080/"
        },
        "id": "HMrKe8-oxcIU",
        "outputId": "0ee88170-9550-41af-b21f-5ce82ba92532"
      },
      "execution_count": 24,
      "outputs": [
        {
          "output_type": "execute_result",
          "data": {
            "text/plain": [
              "사용안함                                                     67287\n",
              "[웰컴쿠폰] 올인원 패키지 2만원 할인 쿠폰                                  5498\n",
              "[WELCOME] 온라인 강의 3만원 할인쿠폰                                 3206\n",
              "[웰컴쿠폰] 올인원 패키지 1만원 할인 쿠폰                                  2469\n",
              "[WELCOME] 온라인 강의 2만원 할인쿠폰                                 2325\n",
              "                                                         ...  \n",
              "[무료수강권] 한 번에 끝내는 Java/Spring 웹 개발 마스터 초격차 패키지_안성훈 강사님        1\n",
              "오늘 단 하루! 하루 10분컷 5%할인 (~6/2)                                 1\n",
              "[무료수강권] RED 검수용_공정필 PM님                                      1\n",
              "[서포터즈 전용] 재무/세무 회계 실무 완성 무료 수강                               1\n",
              "[재결제쿠폰]초격차 패키지 : 한 번에 끝내는 node.js 웹 프로그래밍                    1\n",
              "Name: coupon_title, Length: 495, dtype: int64"
            ]
          },
          "metadata": {},
          "execution_count": 24
        }
      ]
    },
    {
      "cell_type": "markdown",
      "source": [
        "## coupon_discount_amount"
      ],
      "metadata": {
        "id": "6tneLImPLV1c"
      }
    },
    {
      "cell_type": "code",
      "source": [
        "df['coupon_discount_amount'].value_counts()"
      ],
      "metadata": {
        "colab": {
          "base_uri": "https://localhost:8080/"
        },
        "id": "bbQ5q97Cxdl8",
        "outputId": "180fdeb3-349f-45c6-8354-d2f086acb8a0"
      },
      "execution_count": 25,
      "outputs": [
        {
          "output_type": "execute_result",
          "data": {
            "text/plain": [
              "0.0          67288\n",
              "20000.0       9428\n",
              "10000.0       5712\n",
              "30000.0       4587\n",
              "50000.0        642\n",
              "             ...  \n",
              "48750.0          1\n",
              "2000000.0        1\n",
              "158900.0         1\n",
              "2500.0           1\n",
              "11000.0          1\n",
              "Name: coupon_discount_amount, Length: 772, dtype: int64"
            ]
          },
          "metadata": {},
          "execution_count": 25
        }
      ]
    },
    {
      "cell_type": "markdown",
      "source": [
        "## sale_price"
      ],
      "metadata": {
        "id": "fkfE202BLZr0"
      }
    },
    {
      "cell_type": "code",
      "source": [
        "df['sale_price'].value_counts()"
      ],
      "metadata": {
        "colab": {
          "base_uri": "https://localhost:8080/"
        },
        "id": "Q7Z-wIcxxg5r",
        "outputId": "4bd39b9c-45fc-4b07-e1d4-d6b332530d4f"
      },
      "execution_count": 26,
      "outputs": [
        {
          "output_type": "execute_result",
          "data": {
            "text/plain": [
              "149000.0     2219\n",
              "99000.0      2178\n",
              "119000.0     2051\n",
              "159000.0     2023\n",
              "100000.0     1995\n",
              "             ... \n",
              "6900000.0       1\n",
              "152100.0        1\n",
              "575000.0        1\n",
              "409810.0        1\n",
              "352000.0        1\n",
              "Name: sale_price, Length: 525, dtype: int64"
            ]
          },
          "metadata": {},
          "execution_count": 26
        }
      ]
    },
    {
      "cell_type": "markdown",
      "source": [
        "## agent(pg)"
      ],
      "metadata": {
        "id": "78zEcj1QLcoL"
      }
    },
    {
      "cell_type": "code",
      "source": [
        "df['agent'].value_counts()"
      ],
      "metadata": {
        "colab": {
          "base_uri": "https://localhost:8080/"
        },
        "id": "DDkxHm51xlJi",
        "outputId": "96306a85-b390-441e-9807-0817e901c528"
      },
      "execution_count": 27,
      "outputs": [
        {
          "output_type": "execute_result",
          "data": {
            "text/plain": [
              "INICIS    56385\n",
              "KAKAO     16524\n",
              "ETC       13760\n",
              "NAVER      7755\n",
              "PAYCO      4367\n",
              "CHAI        309\n",
              "Name: agent, dtype: int64"
            ]
          },
          "metadata": {},
          "execution_count": 27
        }
      ]
    },
    {
      "cell_type": "markdown",
      "source": [
        "## method"
      ],
      "metadata": {
        "id": "pjwygGJ8Le_n"
      }
    },
    {
      "cell_type": "code",
      "source": [
        "df['method'].value_counts()"
      ],
      "metadata": {
        "colab": {
          "base_uri": "https://localhost:8080/"
        },
        "id": "8dSphO0exm0U",
        "outputId": "28cc49ff-46f1-4733-ff4b-619ddcd4ddf0"
      },
      "execution_count": 28,
      "outputs": [
        {
          "output_type": "execute_result",
          "data": {
            "text/plain": [
              "CARD         62764\n",
              "VBANK         8112\n",
              "POINT         7860\n",
              "PROMOTION     4733\n",
              "TRANS         2594\n",
              "TRANSFER       656\n",
              "ONSITE          37\n",
              "VOUCHER          5\n",
              "Name: method, dtype: int64"
            ]
          },
          "metadata": {},
          "execution_count": 28
        }
      ]
    },
    {
      "cell_type": "markdown",
      "source": [
        "## subcategory_title"
      ],
      "metadata": {
        "id": "mcoSGUI-LjkQ"
      }
    },
    {
      "cell_type": "code",
      "source": [
        "df['subcategory_title'].value_counts()"
      ],
      "metadata": {
        "colab": {
          "base_uri": "https://localhost:8080/"
        },
        "id": "aRmSsCOQxohD",
        "outputId": "1bb4f705-1723-49e3-9234-b1cb738a86f2"
      },
      "execution_count": 29,
      "outputs": [
        {
          "output_type": "execute_result",
          "data": {
            "text/plain": [
              "해당없음         13542\n",
              "영상 편집         7307\n",
              "백엔드 개발        6143\n",
              "개발자 커리어       5917\n",
              "프론트엔드 개발      5877\n",
              "딥러닝/인공지능      4589\n",
              "데이터분석         4300\n",
              "PPT/보고서       4150\n",
              "디자인툴          4050\n",
              "모바일앱          3724\n",
              "엑셀/VBA        3590\n",
              "글쓰기/카피라이팅     3524\n",
              "일러스트          3238\n",
              "UX/UI         2774\n",
              "데이터마케팅        2306\n",
              "DevOps        2135\n",
              "금융/투자 실무      2074\n",
              "모션그래픽         2033\n",
              "머신러닝          1958\n",
              "회계/재무/세무      1945\n",
              "시각디자인         1927\n",
              "주식 투자         1787\n",
              "디지털마케팅        1754\n",
              "게임            1707\n",
              "SNS마케팅        1185\n",
              "부동산 개발        1174\n",
              "업무자동화          996\n",
              "코딩 입문          782\n",
              "부동산 투자         714\n",
              "VFX            523\n",
              "리더십            511\n",
              "게임 그래픽         385\n",
              "데이터엔지니어링       275\n",
              "커뮤니케이션         204\n",
              "Name: subcategory_title, dtype: int64"
            ]
          },
          "metadata": {},
          "execution_count": 29
        }
      ]
    },
    {
      "cell_type": "markdown",
      "source": [
        "### 구매가 많은 서브카테고리"
      ],
      "metadata": {
        "id": "6EbFlSoO5vOK"
      }
    },
    {
      "cell_type": "code",
      "source": [
        "# 구매가 많은 카테고리 재구성\n",
        "df1 = df.groupby('type').get_group('PAYMENT')"
      ],
      "metadata": {
        "id": "Ssw60mQe5k_h"
      },
      "execution_count": 59,
      "outputs": []
    },
    {
      "cell_type": "code",
      "source": [
        "plt.figure(figsize=(10,6))\n",
        "plt.rc(\"font\", family=\"NanumBarunGothic\")\n",
        "sns.countplot(data=df1, y='subcategory_title')\n",
        "plt.title('PAYMENT')"
      ],
      "metadata": {
        "colab": {
          "base_uri": "https://localhost:8080/",
          "height": 421
        },
        "id": "qRAnBg_u5mtO",
        "outputId": "5e3d34be-6a53-46f6-ca88-2c74f8f31cbf"
      },
      "execution_count": 60,
      "outputs": [
        {
          "output_type": "execute_result",
          "data": {
            "text/plain": [
              "Text(0.5, 1.0, 'PAYMENT')"
            ]
          },
          "metadata": {},
          "execution_count": 60
        },
        {
          "output_type": "display_data",
          "data": {
            "text/plain": [
              "<Figure size 720x432 with 1 Axes>"
            ],
            "image/png": "[encoded data removed]"
          },
          "metadata": {}
        }
      ]
    },
    {
      "cell_type": "markdown",
      "source": [
        "### 환불이 많은 서브카테고리"
      ],
      "metadata": {
        "id": "gmSahdNR5zQW"
      }
    },
    {
      "cell_type": "code",
      "source": [
        "# 환불이 많은 카테고리 재구성\n",
        "df2 = df.groupby('type').get_group('REFUND')"
      ],
      "metadata": {
        "id": "tphoCaO95rEn"
      },
      "execution_count": 61,
      "outputs": []
    },
    {
      "cell_type": "code",
      "source": [
        "plt.figure(figsize=(10,6))\n",
        "plt.rc(\"font\", family=\"NanumBarunGothic\")\n",
        "sns.countplot(data=df2, y='subcategory_title')\n",
        "plt.title('REFUND')"
      ],
      "metadata": {
        "colab": {
          "base_uri": "https://localhost:8080/",
          "height": 421
        },
        "id": "JPJPVBxY5soj",
        "outputId": "a50c8c96-aa91-444d-9574-bfca350c7b21"
      },
      "execution_count": 62,
      "outputs": [
        {
          "output_type": "execute_result",
          "data": {
            "text/plain": [
              "Text(0.5, 1.0, 'REFUND')"
            ]
          },
          "metadata": {},
          "execution_count": 62
        },
        {
          "output_type": "display_data",
          "data": {
            "text/plain": [
              "<Figure size 720x432 with 1 Axes>"
            ],
            "image/png": "[encoded data removed]"
          },
          "metadata": {}
        }
      ]
    },
    {
      "cell_type": "markdown",
      "source": [
        "## marketing_start_at"
      ],
      "metadata": {
        "id": "qWvM_fhcLlXh"
      }
    },
    {
      "cell_type": "code",
      "source": [
        "df['marketing_start_at'].value_counts()"
      ],
      "metadata": {
        "colab": {
          "base_uri": "https://localhost:8080/"
        },
        "id": "KBGSRFtWxxKl",
        "outputId": "f647e90d-6b51-465d-a31d-5b4c4c9b8333"
      },
      "execution_count": 30,
      "outputs": [
        {
          "output_type": "execute_result",
          "data": {
            "text/plain": [
              "2021-02-02    3304\n",
              "2021-02-01    2825\n",
              "2020-12-18    2782\n",
              "2021-04-28    2752\n",
              "2020-12-02    2567\n",
              "              ... \n",
              "2021-01-29       1\n",
              "2021-02-15       1\n",
              "2020-11-16       1\n",
              "2020-10-29       1\n",
              "2021-09-16       1\n",
              "Name: marketing_start_at, Length: 177, dtype: int64"
            ]
          },
          "metadata": {},
          "execution_count": 30
        }
      ]
    },
    {
      "cell_type": "markdown",
      "source": [
        "# 정리"
      ],
      "metadata": {
        "id": "uuFCj56IbeAr"
      }
    }
  ]
}